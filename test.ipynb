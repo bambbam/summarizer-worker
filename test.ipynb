{
 "cells": [
  {
   "cell_type": "code",
   "execution_count": null,
   "metadata": {},
   "outputs": [],
   "source": [
    "\n",
    "import tensorflow as tf\n",
    "gpu = tf.config.experimental.list_physical_devices('GPU') # 내 컴에 장착된 GPU를 list로 반환\n",
    "try:\n",
    "    tf.config.experimental.set_memory_growth(gpu[0], True) # GPU Memory Growth를 Enable\n",
    "except RuntimeError as e:\n",
    "    print(e) # Error 발생하면 Error 내용 출력"
   ]
  },
  {
   "cell_type": "code",
   "execution_count": 4,
   "metadata": {},
   "outputs": [],
   "source": [
    "from summarizer.domain.model.video import Video\n",
    "import matplotlib"
   ]
  },
  {
   "cell_type": "code",
   "execution_count": 5,
   "metadata": {},
   "outputs": [
    {
     "name": "stdout",
     "output_type": "stream",
     "text": [
      "length : 4625\n",
      "width : 640\n",
      "height : 360\n",
      "fps : 25.0\n"
     ]
    },
    {
     "ename": "KeyError",
     "evalue": "'yolo3'",
     "output_type": "error",
     "traceback": [
      "\u001b[0;31m---------------------------------------------------------------------------\u001b[0m",
      "\u001b[0;31mKeyError\u001b[0m                                  Traceback (most recent call last)",
      "\u001b[1;32m/Users/jeonminsu/Desktop/Project/capstone1/summarizer-worker/test.ipynb Cell 3'\u001b[0m in \u001b[0;36m<cell line: 3>\u001b[0;34m()\u001b[0m\n\u001b[1;32m      <a href='vscode-notebook-cell:/Users/jeonminsu/Desktop/Project/capstone1/summarizer-worker/test.ipynb#ch0000002?line=0'>1</a>\u001b[0m video \u001b[39m=\u001b[39m Video(url\u001b[39m=\u001b[39m\u001b[39m\"\u001b[39m\u001b[39mtests/2.mp4\u001b[39m\u001b[39m\"\u001b[39m, algorithm\u001b[39m=\u001b[39m\u001b[39m\"\u001b[39m\u001b[39myolo3\u001b[39m\u001b[39m\"\u001b[39m)\n\u001b[1;32m      <a href='vscode-notebook-cell:/Users/jeonminsu/Desktop/Project/capstone1/summarizer-worker/test.ipynb#ch0000002?line=1'>2</a>\u001b[0m images \u001b[39m=\u001b[39m video\u001b[39m.\u001b[39m_read_video()\n\u001b[0;32m----> <a href='vscode-notebook-cell:/Users/jeonminsu/Desktop/Project/capstone1/summarizer-worker/test.ipynb#ch0000002?line=2'>3</a>\u001b[0m idx, image \u001b[39m=\u001b[39m \u001b[39mnext\u001b[39;49m(images)\n",
      "File \u001b[0;32m~/Desktop/Project/capstone1/summarizer-worker/summarizer/domain/model/video.py:76\u001b[0m, in \u001b[0;36mVideo._read_video\u001b[0;34m(self)\u001b[0m\n\u001b[1;32m     <a href='file:///Users/jeonminsu/Desktop/Project/capstone1/summarizer-worker/summarizer/domain/model/video.py?line=73'>74</a>\u001b[0m     \u001b[39mif\u001b[39;00m \u001b[39mnot\u001b[39;00m ret:\n\u001b[1;32m     <a href='file:///Users/jeonminsu/Desktop/Project/capstone1/summarizer-worker/summarizer/domain/model/video.py?line=74'>75</a>\u001b[0m         \u001b[39mbreak\u001b[39;00m\n\u001b[0;32m---> <a href='file:///Users/jeonminsu/Desktop/Project/capstone1/summarizer-worker/summarizer/domain/model/video.py?line=75'>76</a>\u001b[0m     \u001b[39myield\u001b[39;00m (\u001b[39mint\u001b[39m(cap\u001b[39m.\u001b[39mget(\u001b[39m1\u001b[39m)), Image(frame\u001b[39m=\u001b[39;49mframe, algorithm\u001b[39m=\u001b[39;49m\u001b[39mself\u001b[39;49m\u001b[39m.\u001b[39;49malgorithm))\n\u001b[1;32m     <a href='file:///Users/jeonminsu/Desktop/Project/capstone1/summarizer-worker/summarizer/domain/model/video.py?line=76'>77</a>\u001b[0m cap\u001b[39m.\u001b[39mrelease()\n",
      "File \u001b[0;32m~/Desktop/Project/capstone1/summarizer-worker/summarizer/domain/model/image.py:20\u001b[0m, in \u001b[0;36mImage.__init__\u001b[0;34m(self, frame, algorithm)\u001b[0m\n\u001b[1;32m     <a href='file:///Users/jeonminsu/Desktop/Project/capstone1/summarizer-worker/summarizer/domain/model/image.py?line=17'>18</a>\u001b[0m \u001b[39mdef\u001b[39;00m \u001b[39m__init__\u001b[39m(\u001b[39mself\u001b[39m, frame, algorithm):\n\u001b[1;32m     <a href='file:///Users/jeonminsu/Desktop/Project/capstone1/summarizer-worker/summarizer/domain/model/image.py?line=18'>19</a>\u001b[0m     \u001b[39mself\u001b[39m\u001b[39m.\u001b[39mframe \u001b[39m=\u001b[39m frame\n\u001b[0;32m---> <a href='file:///Users/jeonminsu/Desktop/Project/capstone1/summarizer-worker/summarizer/domain/model/image.py?line=19'>20</a>\u001b[0m     \u001b[39mself\u001b[39m\u001b[39m.\u001b[39mdetector \u001b[39m=\u001b[39m algorithm_map[algorithm]()\n",
      "\u001b[0;31mKeyError\u001b[0m: 'yolo3'"
     ]
    }
   ],
   "source": [
    "video = Video(url=\"tests/2.mp4\", algorithm=\"yolov3\")\n",
    "images = video._read_video()\n",
    "idx, image = next(images)"
   ]
  },
  {
   "cell_type": "code",
   "execution_count": null,
   "metadata": {},
   "outputs": [],
   "source": [
    "\n",
    "features = image.extract()\n",
    "print(features)"
   ]
  },
  {
   "cell_type": "code",
   "execution_count": null,
   "metadata": {},
   "outputs": [],
   "source": [
    "video = Video(url=\"tests/2.mp4\") \n",
    "list_of_feature = video.extract_feature()\n",
    "video.shorten(video_feature=list_of_feature, must_include_feature=[\"person\"])"
   ]
  },
  {
   "cell_type": "code",
   "execution_count": null,
   "metadata": {},
   "outputs": [],
   "source": []
  }
 ],
 "metadata": {
  "interpreter": {
   "hash": "19c3d63fb0fca6ad034ff5f3341e7200cfedea1264701a9bb919ca3873d1b28a"
  },
  "kernelspec": {
   "display_name": "Python 3.8.9 ('summarizer-server-05flj79H-py3.8')",
   "language": "python",
   "name": "python3"
  },
  "language_info": {
   "codemirror_mode": {
    "name": "ipython",
    "version": 3
   },
   "file_extension": ".py",
   "mimetype": "text/x-python",
   "name": "python",
   "nbconvert_exporter": "python",
   "pygments_lexer": "ipython3",
   "version": "3.8.9"
  },
  "orig_nbformat": 4
 },
 "nbformat": 4,
 "nbformat_minor": 2
}
