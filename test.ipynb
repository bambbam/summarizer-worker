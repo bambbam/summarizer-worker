{
 "cells": [
  {
   "cell_type": "code",
   "execution_count": 1,
   "metadata": {},
   "outputs": [
    {
     "ename": "IndexError",
     "evalue": "list index out of range",
     "output_type": "error",
     "traceback": [
      "\u001b[1;31m---------------------------------------------------------------------------\u001b[0m",
      "\u001b[1;31mIndexError\u001b[0m                                Traceback (most recent call last)",
      "\u001b[1;32mc:\\Users\\user\\capstone1\\summarizer-worker\\test.ipynb Cell 1'\u001b[0m in \u001b[0;36m<cell line: 3>\u001b[1;34m()\u001b[0m\n\u001b[0;32m      <a href='vscode-notebook-cell:/c%3A/Users/user/capstone1/summarizer-worker/test.ipynb#ch0000000?line=1'>2</a>\u001b[0m gpu \u001b[39m=\u001b[39m tf\u001b[39m.\u001b[39mconfig\u001b[39m.\u001b[39mexperimental\u001b[39m.\u001b[39mlist_physical_devices(\u001b[39m'\u001b[39m\u001b[39mGPU\u001b[39m\u001b[39m'\u001b[39m) \u001b[39m# 내 컴에 장착된 GPU를 list로 반환\u001b[39;00m\n\u001b[0;32m      <a href='vscode-notebook-cell:/c%3A/Users/user/capstone1/summarizer-worker/test.ipynb#ch0000000?line=2'>3</a>\u001b[0m \u001b[39mtry\u001b[39;00m:\n\u001b[1;32m----> <a href='vscode-notebook-cell:/c%3A/Users/user/capstone1/summarizer-worker/test.ipynb#ch0000000?line=3'>4</a>\u001b[0m     tf\u001b[39m.\u001b[39mconfig\u001b[39m.\u001b[39mexperimental\u001b[39m.\u001b[39mset_memory_growth(gpu[\u001b[39m0\u001b[39;49m], \u001b[39mTrue\u001b[39;00m) \u001b[39m# GPU Memory Growth를 Enable\u001b[39;00m\n\u001b[0;32m      <a href='vscode-notebook-cell:/c%3A/Users/user/capstone1/summarizer-worker/test.ipynb#ch0000000?line=4'>5</a>\u001b[0m \u001b[39mexcept\u001b[39;00m \u001b[39mRuntimeError\u001b[39;00m \u001b[39mas\u001b[39;00m e:\n\u001b[0;32m      <a href='vscode-notebook-cell:/c%3A/Users/user/capstone1/summarizer-worker/test.ipynb#ch0000000?line=5'>6</a>\u001b[0m     \u001b[39mprint\u001b[39m(e)\n",
      "\u001b[1;31mIndexError\u001b[0m: list index out of range"
     ]
    }
   ],
   "source": [
    "\n",
    "import tensorflow as tf\n",
    "gpu = tf.config.experimental.list_physical_devices('GPU') # 내 컴에 장착된 GPU를 list로 반환\n",
    "try:\n",
    "    tf.config.experimental.set_memory_growth(gpu[0], True) # GPU Memory Growth를 Enable\n",
    "except RuntimeError as e:\n",
    "    print(e) # Error 발생하면 Error 내용 출력"
   ]
  },
  {
   "cell_type": "code",
   "execution_count": 1,
   "metadata": {},
   "outputs": [],
   "source": [
    "from summarizer.domain.model.video import Video\n",
    "import matplotlib"
   ]
  },
  {
   "cell_type": "markdown",
   "metadata": {},
   "source": []
  },
  {
   "cell_type": "code",
   "execution_count": 2,
   "metadata": {},
   "outputs": [],
   "source": [
    "video = Video(key=\"123\",url=\"tests/2.mp4\", algorithm=\"yolov3\")"
   ]
  },
  {
   "cell_type": "code",
   "execution_count": 25,
   "metadata": {},
   "outputs": [
    {
     "name": "stdout",
     "output_type": "stream",
     "text": [
      "0 <summarizer.domain.model.image.Image object at 0x000001CCEEF90AF0>\n"
     ]
    }
   ],
   "source": [
    "images = video._read_video()\n",
    "idx, image = next(images)\n",
    "print(idx, image)"
   ]
  },
  {
   "cell_type": "code",
   "execution_count": 14,
   "metadata": {},
   "outputs": [
    {
     "name": "stdout",
     "output_type": "stream",
     "text": [
      "[FrameFeature(current_frame=0, name='person', percentage_probability=99.55858588218689, box_points=[344, 45, 693, 668]), FrameFeature(current_frame=0, name='oven', percentage_probability=81.61931037902832, box_points=[755, 579, 1270, 722]), FrameFeature(current_frame=0, name='bottle', percentage_probability=55.292099714279175, box_points=[753, 403, 784, 503]), FrameFeature(current_frame=0, name='bottle', percentage_probability=66.95868968963623, box_points=[781, 405, 812, 521]), FrameFeature(current_frame=0, name='bowl', percentage_probability=64.87914323806763, box_points=[676, 496, 720, 530]), FrameFeature(current_frame=0, name='bowl', percentage_probability=92.26384162902832, box_points=[739, 503, 795, 532])]\n"
     ]
    }
   ],
   "source": [
    "\n",
    "features = image.extract()\n",
    "print(features)\n",
    "from summarizer.domain.model.feature import VideoFeature\n",
    "videofeature = VideoFeature(key=\"123\",features=features)"
   ]
  },
  {
   "cell_type": "code",
   "execution_count": 26,
   "metadata": {},
   "outputs": [],
   "source": [
    "video = Video(key=\"123\",url=\"tests/2.mp4\", algorithm=\"yolov3\")\n",
    "list_of_feature = video.extract_feature()\n",
    "\n",
    "video.shorten(video_feature=list_of_feature, must_include_feature=[\"person\"])"
   ]
  },
  {
   "cell_type": "code",
   "execution_count": 27,
   "metadata": {},
   "outputs": [
    {
     "ename": "NoRegionError",
     "evalue": "You must specify a region.",
     "output_type": "error",
     "traceback": [
      "\u001b[1;31m---------------------------------------------------------------------------\u001b[0m",
      "\u001b[1;31mNoRegionError\u001b[0m                             Traceback (most recent call last)",
      "\u001b[1;32mc:\\Users\\user\\capstone1\\summarizer-worker\\test.ipynb Cell 8'\u001b[0m in \u001b[0;36m<cell line: 30>\u001b[1;34m()\u001b[0m\n\u001b[0;32m     <a href='vscode-notebook-cell:/c%3A/Users/user/capstone1/summarizer-worker/test.ipynb#ch0000006?line=26'>27</a>\u001b[0m     \u001b[39mreturn\u001b[39;00m table\n\u001b[0;32m     <a href='vscode-notebook-cell:/c%3A/Users/user/capstone1/summarizer-worker/test.ipynb#ch0000006?line=29'>30</a>\u001b[0m \u001b[39mif\u001b[39;00m \u001b[39m__name__\u001b[39m \u001b[39m==\u001b[39m \u001b[39m'\u001b[39m\u001b[39m__main__\u001b[39m\u001b[39m'\u001b[39m:\n\u001b[1;32m---> <a href='vscode-notebook-cell:/c%3A/Users/user/capstone1/summarizer-worker/test.ipynb#ch0000006?line=30'>31</a>\u001b[0m     movie_table \u001b[39m=\u001b[39m create_movie_table()\n\u001b[0;32m     <a href='vscode-notebook-cell:/c%3A/Users/user/capstone1/summarizer-worker/test.ipynb#ch0000006?line=31'>32</a>\u001b[0m     \u001b[39mprint\u001b[39m(\u001b[39m\"\u001b[39m\u001b[39mTable status:\u001b[39m\u001b[39m\"\u001b[39m, movie_table\u001b[39m.\u001b[39mtable_status)\n",
      "\u001b[1;32mc:\\Users\\user\\capstone1\\summarizer-worker\\test.ipynb Cell 8'\u001b[0m in \u001b[0;36mcreate_movie_table\u001b[1;34m(dynamodb)\u001b[0m\n\u001b[0;32m      <a href='vscode-notebook-cell:/c%3A/Users/user/capstone1/summarizer-worker/test.ipynb#ch0000006?line=3'>4</a>\u001b[0m \u001b[39mdef\u001b[39;00m \u001b[39mcreate_movie_table\u001b[39m(dynamodb\u001b[39m=\u001b[39m\u001b[39mNone\u001b[39;00m):\n\u001b[0;32m      <a href='vscode-notebook-cell:/c%3A/Users/user/capstone1/summarizer-worker/test.ipynb#ch0000006?line=4'>5</a>\u001b[0m     \u001b[39mif\u001b[39;00m \u001b[39mnot\u001b[39;00m dynamodb:\n\u001b[1;32m----> <a href='vscode-notebook-cell:/c%3A/Users/user/capstone1/summarizer-worker/test.ipynb#ch0000006?line=5'>6</a>\u001b[0m         dynamodb \u001b[39m=\u001b[39m boto3\u001b[39m.\u001b[39;49mresource(\u001b[39m'\u001b[39;49m\u001b[39mdynamodb\u001b[39;49m\u001b[39m'\u001b[39;49m, endpoint_url\u001b[39m=\u001b[39;49m\u001b[39m\"\u001b[39;49m\u001b[39mhttp://localhost:8000\u001b[39;49m\u001b[39m\"\u001b[39;49m)\n\u001b[0;32m      <a href='vscode-notebook-cell:/c%3A/Users/user/capstone1/summarizer-worker/test.ipynb#ch0000006?line=7'>8</a>\u001b[0m     table \u001b[39m=\u001b[39m dynamodb\u001b[39m.\u001b[39mcreate_table(\n\u001b[0;32m      <a href='vscode-notebook-cell:/c%3A/Users/user/capstone1/summarizer-worker/test.ipynb#ch0000006?line=8'>9</a>\u001b[0m         TableName\u001b[39m=\u001b[39m\u001b[39m'\u001b[39m\u001b[39mVideo\u001b[39m\u001b[39m'\u001b[39m,\n\u001b[0;32m     <a href='vscode-notebook-cell:/c%3A/Users/user/capstone1/summarizer-worker/test.ipynb#ch0000006?line=9'>10</a>\u001b[0m         KeySchema\u001b[39m=\u001b[39m[\n\u001b[1;32m   (...)\u001b[0m\n\u001b[0;32m     <a href='vscode-notebook-cell:/c%3A/Users/user/capstone1/summarizer-worker/test.ipynb#ch0000006?line=24'>25</a>\u001b[0m         }\n\u001b[0;32m     <a href='vscode-notebook-cell:/c%3A/Users/user/capstone1/summarizer-worker/test.ipynb#ch0000006?line=25'>26</a>\u001b[0m     )\n\u001b[0;32m     <a href='vscode-notebook-cell:/c%3A/Users/user/capstone1/summarizer-worker/test.ipynb#ch0000006?line=26'>27</a>\u001b[0m     \u001b[39mreturn\u001b[39;00m table\n",
      "File \u001b[1;32mc:\\Users\\user\\anaconda3\\envs\\worker\\lib\\site-packages\\boto3\\__init__.py:101\u001b[0m, in \u001b[0;36mresource\u001b[1;34m(*args, **kwargs)\u001b[0m\n\u001b[0;32m     <a href='file:///c%3A/Users/user/anaconda3/envs/worker/lib/site-packages/boto3/__init__.py?line=94'>95</a>\u001b[0m \u001b[39mdef\u001b[39;00m \u001b[39mresource\u001b[39m(\u001b[39m*\u001b[39margs, \u001b[39m*\u001b[39m\u001b[39m*\u001b[39mkwargs):\n\u001b[0;32m     <a href='file:///c%3A/Users/user/anaconda3/envs/worker/lib/site-packages/boto3/__init__.py?line=95'>96</a>\u001b[0m     \u001b[39m\"\"\"\u001b[39;00m\n\u001b[0;32m     <a href='file:///c%3A/Users/user/anaconda3/envs/worker/lib/site-packages/boto3/__init__.py?line=96'>97</a>\u001b[0m \u001b[39m    Create a resource service client by name using the default session.\u001b[39;00m\n\u001b[0;32m     <a href='file:///c%3A/Users/user/anaconda3/envs/worker/lib/site-packages/boto3/__init__.py?line=97'>98</a>\u001b[0m \n\u001b[0;32m     <a href='file:///c%3A/Users/user/anaconda3/envs/worker/lib/site-packages/boto3/__init__.py?line=98'>99</a>\u001b[0m \u001b[39m    See :py:meth:`boto3.session.Session.resource`.\u001b[39;00m\n\u001b[0;32m    <a href='file:///c%3A/Users/user/anaconda3/envs/worker/lib/site-packages/boto3/__init__.py?line=99'>100</a>\u001b[0m \u001b[39m    \"\"\"\u001b[39;00m\n\u001b[1;32m--> <a href='file:///c%3A/Users/user/anaconda3/envs/worker/lib/site-packages/boto3/__init__.py?line=100'>101</a>\u001b[0m     \u001b[39mreturn\u001b[39;00m _get_default_session()\u001b[39m.\u001b[39;49mresource(\u001b[39m*\u001b[39;49margs, \u001b[39m*\u001b[39;49m\u001b[39m*\u001b[39;49mkwargs)\n",
      "File \u001b[1;32mc:\\Users\\user\\anaconda3\\envs\\worker\\lib\\site-packages\\boto3\\session.py:446\u001b[0m, in \u001b[0;36mSession.resource\u001b[1;34m(self, service_name, region_name, api_version, use_ssl, verify, endpoint_url, aws_access_key_id, aws_secret_access_key, aws_session_token, config)\u001b[0m\n\u001b[0;32m    <a href='file:///c%3A/Users/user/anaconda3/envs/worker/lib/site-packages/boto3/session.py?line=443'>444</a>\u001b[0m \u001b[39melse\u001b[39;00m:\n\u001b[0;32m    <a href='file:///c%3A/Users/user/anaconda3/envs/worker/lib/site-packages/boto3/session.py?line=444'>445</a>\u001b[0m     config \u001b[39m=\u001b[39m Config(user_agent_extra\u001b[39m=\u001b[39m\u001b[39m'\u001b[39m\u001b[39mResource\u001b[39m\u001b[39m'\u001b[39m)\n\u001b[1;32m--> <a href='file:///c%3A/Users/user/anaconda3/envs/worker/lib/site-packages/boto3/session.py?line=445'>446</a>\u001b[0m client \u001b[39m=\u001b[39m \u001b[39mself\u001b[39;49m\u001b[39m.\u001b[39;49mclient(\n\u001b[0;32m    <a href='file:///c%3A/Users/user/anaconda3/envs/worker/lib/site-packages/boto3/session.py?line=446'>447</a>\u001b[0m     service_name,\n\u001b[0;32m    <a href='file:///c%3A/Users/user/anaconda3/envs/worker/lib/site-packages/boto3/session.py?line=447'>448</a>\u001b[0m     region_name\u001b[39m=\u001b[39;49mregion_name,\n\u001b[0;32m    <a href='file:///c%3A/Users/user/anaconda3/envs/worker/lib/site-packages/boto3/session.py?line=448'>449</a>\u001b[0m     api_version\u001b[39m=\u001b[39;49mapi_version,\n\u001b[0;32m    <a href='file:///c%3A/Users/user/anaconda3/envs/worker/lib/site-packages/boto3/session.py?line=449'>450</a>\u001b[0m     use_ssl\u001b[39m=\u001b[39;49muse_ssl,\n\u001b[0;32m    <a href='file:///c%3A/Users/user/anaconda3/envs/worker/lib/site-packages/boto3/session.py?line=450'>451</a>\u001b[0m     verify\u001b[39m=\u001b[39;49mverify,\n\u001b[0;32m    <a href='file:///c%3A/Users/user/anaconda3/envs/worker/lib/site-packages/boto3/session.py?line=451'>452</a>\u001b[0m     endpoint_url\u001b[39m=\u001b[39;49mendpoint_url,\n\u001b[0;32m    <a href='file:///c%3A/Users/user/anaconda3/envs/worker/lib/site-packages/boto3/session.py?line=452'>453</a>\u001b[0m     aws_access_key_id\u001b[39m=\u001b[39;49maws_access_key_id,\n\u001b[0;32m    <a href='file:///c%3A/Users/user/anaconda3/envs/worker/lib/site-packages/boto3/session.py?line=453'>454</a>\u001b[0m     aws_secret_access_key\u001b[39m=\u001b[39;49maws_secret_access_key,\n\u001b[0;32m    <a href='file:///c%3A/Users/user/anaconda3/envs/worker/lib/site-packages/boto3/session.py?line=454'>455</a>\u001b[0m     aws_session_token\u001b[39m=\u001b[39;49maws_session_token,\n\u001b[0;32m    <a href='file:///c%3A/Users/user/anaconda3/envs/worker/lib/site-packages/boto3/session.py?line=455'>456</a>\u001b[0m     config\u001b[39m=\u001b[39;49mconfig,\n\u001b[0;32m    <a href='file:///c%3A/Users/user/anaconda3/envs/worker/lib/site-packages/boto3/session.py?line=456'>457</a>\u001b[0m )\n\u001b[0;32m    <a href='file:///c%3A/Users/user/anaconda3/envs/worker/lib/site-packages/boto3/session.py?line=457'>458</a>\u001b[0m service_model \u001b[39m=\u001b[39m client\u001b[39m.\u001b[39mmeta\u001b[39m.\u001b[39mservice_model\n\u001b[0;32m    <a href='file:///c%3A/Users/user/anaconda3/envs/worker/lib/site-packages/boto3/session.py?line=459'>460</a>\u001b[0m \u001b[39m# Create a ServiceContext object to serve as a reference to\u001b[39;00m\n\u001b[0;32m    <a href='file:///c%3A/Users/user/anaconda3/envs/worker/lib/site-packages/boto3/session.py?line=460'>461</a>\u001b[0m \u001b[39m# important read-only information about the general service.\u001b[39;00m\n",
      "File \u001b[1;32mc:\\Users\\user\\anaconda3\\envs\\worker\\lib\\site-packages\\boto3\\session.py:299\u001b[0m, in \u001b[0;36mSession.client\u001b[1;34m(self, service_name, region_name, api_version, use_ssl, verify, endpoint_url, aws_access_key_id, aws_secret_access_key, aws_session_token, config)\u001b[0m\n\u001b[0;32m    <a href='file:///c%3A/Users/user/anaconda3/envs/worker/lib/site-packages/boto3/session.py?line=216'>217</a>\u001b[0m \u001b[39mdef\u001b[39;00m \u001b[39mclient\u001b[39m(\n\u001b[0;32m    <a href='file:///c%3A/Users/user/anaconda3/envs/worker/lib/site-packages/boto3/session.py?line=217'>218</a>\u001b[0m     \u001b[39mself\u001b[39m,\n\u001b[0;32m    <a href='file:///c%3A/Users/user/anaconda3/envs/worker/lib/site-packages/boto3/session.py?line=218'>219</a>\u001b[0m     service_name,\n\u001b[1;32m   (...)\u001b[0m\n\u001b[0;32m    <a href='file:///c%3A/Users/user/anaconda3/envs/worker/lib/site-packages/boto3/session.py?line=227'>228</a>\u001b[0m     config\u001b[39m=\u001b[39m\u001b[39mNone\u001b[39;00m,\n\u001b[0;32m    <a href='file:///c%3A/Users/user/anaconda3/envs/worker/lib/site-packages/boto3/session.py?line=228'>229</a>\u001b[0m ):\n\u001b[0;32m    <a href='file:///c%3A/Users/user/anaconda3/envs/worker/lib/site-packages/boto3/session.py?line=229'>230</a>\u001b[0m     \u001b[39m\"\"\"\u001b[39;00m\n\u001b[0;32m    <a href='file:///c%3A/Users/user/anaconda3/envs/worker/lib/site-packages/boto3/session.py?line=230'>231</a>\u001b[0m \u001b[39m    Create a low-level service client by name.\u001b[39;00m\n\u001b[0;32m    <a href='file:///c%3A/Users/user/anaconda3/envs/worker/lib/site-packages/boto3/session.py?line=231'>232</a>\u001b[0m \n\u001b[1;32m   (...)\u001b[0m\n\u001b[0;32m    <a href='file:///c%3A/Users/user/anaconda3/envs/worker/lib/site-packages/boto3/session.py?line=296'>297</a>\u001b[0m \n\u001b[0;32m    <a href='file:///c%3A/Users/user/anaconda3/envs/worker/lib/site-packages/boto3/session.py?line=297'>298</a>\u001b[0m \u001b[39m    \"\"\"\u001b[39;00m\n\u001b[1;32m--> <a href='file:///c%3A/Users/user/anaconda3/envs/worker/lib/site-packages/boto3/session.py?line=298'>299</a>\u001b[0m     \u001b[39mreturn\u001b[39;00m \u001b[39mself\u001b[39;49m\u001b[39m.\u001b[39;49m_session\u001b[39m.\u001b[39;49mcreate_client(\n\u001b[0;32m    <a href='file:///c%3A/Users/user/anaconda3/envs/worker/lib/site-packages/boto3/session.py?line=299'>300</a>\u001b[0m         service_name,\n\u001b[0;32m    <a href='file:///c%3A/Users/user/anaconda3/envs/worker/lib/site-packages/boto3/session.py?line=300'>301</a>\u001b[0m         region_name\u001b[39m=\u001b[39;49mregion_name,\n\u001b[0;32m    <a href='file:///c%3A/Users/user/anaconda3/envs/worker/lib/site-packages/boto3/session.py?line=301'>302</a>\u001b[0m         api_version\u001b[39m=\u001b[39;49mapi_version,\n\u001b[0;32m    <a href='file:///c%3A/Users/user/anaconda3/envs/worker/lib/site-packages/boto3/session.py?line=302'>303</a>\u001b[0m         use_ssl\u001b[39m=\u001b[39;49muse_ssl,\n\u001b[0;32m    <a href='file:///c%3A/Users/user/anaconda3/envs/worker/lib/site-packages/boto3/session.py?line=303'>304</a>\u001b[0m         verify\u001b[39m=\u001b[39;49mverify,\n\u001b[0;32m    <a href='file:///c%3A/Users/user/anaconda3/envs/worker/lib/site-packages/boto3/session.py?line=304'>305</a>\u001b[0m         endpoint_url\u001b[39m=\u001b[39;49mendpoint_url,\n\u001b[0;32m    <a href='file:///c%3A/Users/user/anaconda3/envs/worker/lib/site-packages/boto3/session.py?line=305'>306</a>\u001b[0m         aws_access_key_id\u001b[39m=\u001b[39;49maws_access_key_id,\n\u001b[0;32m    <a href='file:///c%3A/Users/user/anaconda3/envs/worker/lib/site-packages/boto3/session.py?line=306'>307</a>\u001b[0m         aws_secret_access_key\u001b[39m=\u001b[39;49maws_secret_access_key,\n\u001b[0;32m    <a href='file:///c%3A/Users/user/anaconda3/envs/worker/lib/site-packages/boto3/session.py?line=307'>308</a>\u001b[0m         aws_session_token\u001b[39m=\u001b[39;49maws_session_token,\n\u001b[0;32m    <a href='file:///c%3A/Users/user/anaconda3/envs/worker/lib/site-packages/boto3/session.py?line=308'>309</a>\u001b[0m         config\u001b[39m=\u001b[39;49mconfig,\n\u001b[0;32m    <a href='file:///c%3A/Users/user/anaconda3/envs/worker/lib/site-packages/boto3/session.py?line=309'>310</a>\u001b[0m     )\n",
      "File \u001b[1;32mc:\\Users\\user\\anaconda3\\envs\\worker\\lib\\site-packages\\botocore\\session.py:884\u001b[0m, in \u001b[0;36mSession.create_client\u001b[1;34m(self, service_name, region_name, api_version, use_ssl, verify, endpoint_url, aws_access_key_id, aws_secret_access_key, aws_session_token, config)\u001b[0m\n\u001b[0;32m    <a href='file:///c%3A/Users/user/anaconda3/envs/worker/lib/site-packages/botocore/session.py?line=877'>878</a>\u001b[0m     smart_defaults_factory\u001b[39m.\u001b[39mmerge_smart_defaults(\n\u001b[0;32m    <a href='file:///c%3A/Users/user/anaconda3/envs/worker/lib/site-packages/botocore/session.py?line=878'>879</a>\u001b[0m         config_store, defaults_mode, region_name)\n\u001b[0;32m    <a href='file:///c%3A/Users/user/anaconda3/envs/worker/lib/site-packages/botocore/session.py?line=879'>880</a>\u001b[0m client_creator \u001b[39m=\u001b[39m botocore\u001b[39m.\u001b[39mclient\u001b[39m.\u001b[39mClientCreator(\n\u001b[0;32m    <a href='file:///c%3A/Users/user/anaconda3/envs/worker/lib/site-packages/botocore/session.py?line=880'>881</a>\u001b[0m     loader, endpoint_resolver, \u001b[39mself\u001b[39m\u001b[39m.\u001b[39muser_agent(), event_emitter,\n\u001b[0;32m    <a href='file:///c%3A/Users/user/anaconda3/envs/worker/lib/site-packages/botocore/session.py?line=881'>882</a>\u001b[0m     retryhandler, translate, response_parser_factory,\n\u001b[0;32m    <a href='file:///c%3A/Users/user/anaconda3/envs/worker/lib/site-packages/botocore/session.py?line=882'>883</a>\u001b[0m     exceptions_factory, config_store)\n\u001b[1;32m--> <a href='file:///c%3A/Users/user/anaconda3/envs/worker/lib/site-packages/botocore/session.py?line=883'>884</a>\u001b[0m client \u001b[39m=\u001b[39m client_creator\u001b[39m.\u001b[39;49mcreate_client(\n\u001b[0;32m    <a href='file:///c%3A/Users/user/anaconda3/envs/worker/lib/site-packages/botocore/session.py?line=884'>885</a>\u001b[0m     service_name\u001b[39m=\u001b[39;49mservice_name, region_name\u001b[39m=\u001b[39;49mregion_name,\n\u001b[0;32m    <a href='file:///c%3A/Users/user/anaconda3/envs/worker/lib/site-packages/botocore/session.py?line=885'>886</a>\u001b[0m     is_secure\u001b[39m=\u001b[39;49muse_ssl, endpoint_url\u001b[39m=\u001b[39;49mendpoint_url, verify\u001b[39m=\u001b[39;49mverify,\n\u001b[0;32m    <a href='file:///c%3A/Users/user/anaconda3/envs/worker/lib/site-packages/botocore/session.py?line=886'>887</a>\u001b[0m     credentials\u001b[39m=\u001b[39;49mcredentials, scoped_config\u001b[39m=\u001b[39;49m\u001b[39mself\u001b[39;49m\u001b[39m.\u001b[39;49mget_scoped_config(),\n\u001b[0;32m    <a href='file:///c%3A/Users/user/anaconda3/envs/worker/lib/site-packages/botocore/session.py?line=887'>888</a>\u001b[0m     client_config\u001b[39m=\u001b[39;49mconfig, api_version\u001b[39m=\u001b[39;49mapi_version)\n\u001b[0;32m    <a href='file:///c%3A/Users/user/anaconda3/envs/worker/lib/site-packages/botocore/session.py?line=888'>889</a>\u001b[0m monitor \u001b[39m=\u001b[39m \u001b[39mself\u001b[39m\u001b[39m.\u001b[39m_get_internal_component(\u001b[39m'\u001b[39m\u001b[39mmonitor\u001b[39m\u001b[39m'\u001b[39m)\n\u001b[0;32m    <a href='file:///c%3A/Users/user/anaconda3/envs/worker/lib/site-packages/botocore/session.py?line=889'>890</a>\u001b[0m \u001b[39mif\u001b[39;00m monitor \u001b[39mis\u001b[39;00m \u001b[39mnot\u001b[39;00m \u001b[39mNone\u001b[39;00m:\n",
      "File \u001b[1;32mc:\\Users\\user\\anaconda3\\envs\\worker\\lib\\site-packages\\botocore\\client.py:101\u001b[0m, in \u001b[0;36mClientCreator.create_client\u001b[1;34m(self, service_name, region_name, is_secure, endpoint_url, verify, credentials, scoped_config, api_version, client_config)\u001b[0m\n\u001b[0;32m     <a href='file:///c%3A/Users/user/anaconda3/envs/worker/lib/site-packages/botocore/client.py?line=94'>95</a>\u001b[0m region_name, client_config \u001b[39m=\u001b[39m \u001b[39mself\u001b[39m\u001b[39m.\u001b[39m_normalize_fips_region(\n\u001b[0;32m     <a href='file:///c%3A/Users/user/anaconda3/envs/worker/lib/site-packages/botocore/client.py?line=95'>96</a>\u001b[0m     region_name, client_config)\n\u001b[0;32m     <a href='file:///c%3A/Users/user/anaconda3/envs/worker/lib/site-packages/botocore/client.py?line=96'>97</a>\u001b[0m endpoint_bridge \u001b[39m=\u001b[39m ClientEndpointBridge(\n\u001b[0;32m     <a href='file:///c%3A/Users/user/anaconda3/envs/worker/lib/site-packages/botocore/client.py?line=97'>98</a>\u001b[0m     \u001b[39mself\u001b[39m\u001b[39m.\u001b[39m_endpoint_resolver, scoped_config, client_config,\n\u001b[0;32m     <a href='file:///c%3A/Users/user/anaconda3/envs/worker/lib/site-packages/botocore/client.py?line=98'>99</a>\u001b[0m     service_signing_name\u001b[39m=\u001b[39mservice_model\u001b[39m.\u001b[39mmetadata\u001b[39m.\u001b[39mget(\u001b[39m'\u001b[39m\u001b[39msigningName\u001b[39m\u001b[39m'\u001b[39m),\n\u001b[0;32m    <a href='file:///c%3A/Users/user/anaconda3/envs/worker/lib/site-packages/botocore/client.py?line=99'>100</a>\u001b[0m     config_store\u001b[39m=\u001b[39m\u001b[39mself\u001b[39m\u001b[39m.\u001b[39m_config_store)\n\u001b[1;32m--> <a href='file:///c%3A/Users/user/anaconda3/envs/worker/lib/site-packages/botocore/client.py?line=100'>101</a>\u001b[0m client_args \u001b[39m=\u001b[39m \u001b[39mself\u001b[39;49m\u001b[39m.\u001b[39;49m_get_client_args(\n\u001b[0;32m    <a href='file:///c%3A/Users/user/anaconda3/envs/worker/lib/site-packages/botocore/client.py?line=101'>102</a>\u001b[0m     service_model, region_name, is_secure, endpoint_url,\n\u001b[0;32m    <a href='file:///c%3A/Users/user/anaconda3/envs/worker/lib/site-packages/botocore/client.py?line=102'>103</a>\u001b[0m     verify, credentials, scoped_config, client_config, endpoint_bridge)\n\u001b[0;32m    <a href='file:///c%3A/Users/user/anaconda3/envs/worker/lib/site-packages/botocore/client.py?line=103'>104</a>\u001b[0m service_client \u001b[39m=\u001b[39m \u001b[39mcls\u001b[39m(\u001b[39m*\u001b[39m\u001b[39m*\u001b[39mclient_args)\n\u001b[0;32m    <a href='file:///c%3A/Users/user/anaconda3/envs/worker/lib/site-packages/botocore/client.py?line=104'>105</a>\u001b[0m \u001b[39mself\u001b[39m\u001b[39m.\u001b[39m_register_retries(service_client)\n",
      "File \u001b[1;32mc:\\Users\\user\\anaconda3\\envs\\worker\\lib\\site-packages\\botocore\\client.py:370\u001b[0m, in \u001b[0;36mClientCreator._get_client_args\u001b[1;34m(self, service_model, region_name, is_secure, endpoint_url, verify, credentials, scoped_config, client_config, endpoint_bridge)\u001b[0m\n\u001b[0;32m    <a href='file:///c%3A/Users/user/anaconda3/envs/worker/lib/site-packages/botocore/client.py?line=362'>363</a>\u001b[0m \u001b[39mdef\u001b[39;00m \u001b[39m_get_client_args\u001b[39m(\u001b[39mself\u001b[39m, service_model, region_name, is_secure,\n\u001b[0;32m    <a href='file:///c%3A/Users/user/anaconda3/envs/worker/lib/site-packages/botocore/client.py?line=363'>364</a>\u001b[0m                      endpoint_url, verify, credentials,\n\u001b[0;32m    <a href='file:///c%3A/Users/user/anaconda3/envs/worker/lib/site-packages/botocore/client.py?line=364'>365</a>\u001b[0m                      scoped_config, client_config, endpoint_bridge):\n\u001b[0;32m    <a href='file:///c%3A/Users/user/anaconda3/envs/worker/lib/site-packages/botocore/client.py?line=365'>366</a>\u001b[0m     args_creator \u001b[39m=\u001b[39m ClientArgsCreator(\n\u001b[0;32m    <a href='file:///c%3A/Users/user/anaconda3/envs/worker/lib/site-packages/botocore/client.py?line=366'>367</a>\u001b[0m         \u001b[39mself\u001b[39m\u001b[39m.\u001b[39m_event_emitter, \u001b[39mself\u001b[39m\u001b[39m.\u001b[39m_user_agent,\n\u001b[0;32m    <a href='file:///c%3A/Users/user/anaconda3/envs/worker/lib/site-packages/botocore/client.py?line=367'>368</a>\u001b[0m         \u001b[39mself\u001b[39m\u001b[39m.\u001b[39m_response_parser_factory, \u001b[39mself\u001b[39m\u001b[39m.\u001b[39m_loader,\n\u001b[0;32m    <a href='file:///c%3A/Users/user/anaconda3/envs/worker/lib/site-packages/botocore/client.py?line=368'>369</a>\u001b[0m         \u001b[39mself\u001b[39m\u001b[39m.\u001b[39m_exceptions_factory, config_store\u001b[39m=\u001b[39m\u001b[39mself\u001b[39m\u001b[39m.\u001b[39m_config_store)\n\u001b[1;32m--> <a href='file:///c%3A/Users/user/anaconda3/envs/worker/lib/site-packages/botocore/client.py?line=369'>370</a>\u001b[0m     \u001b[39mreturn\u001b[39;00m args_creator\u001b[39m.\u001b[39;49mget_client_args(\n\u001b[0;32m    <a href='file:///c%3A/Users/user/anaconda3/envs/worker/lib/site-packages/botocore/client.py?line=370'>371</a>\u001b[0m         service_model, region_name, is_secure, endpoint_url,\n\u001b[0;32m    <a href='file:///c%3A/Users/user/anaconda3/envs/worker/lib/site-packages/botocore/client.py?line=371'>372</a>\u001b[0m         verify, credentials, scoped_config, client_config, endpoint_bridge)\n",
      "File \u001b[1;32mc:\\Users\\user\\anaconda3\\envs\\worker\\lib\\site-packages\\botocore\\args.py:71\u001b[0m, in \u001b[0;36mClientArgsCreator.get_client_args\u001b[1;34m(self, service_model, region_name, is_secure, endpoint_url, verify, credentials, scoped_config, client_config, endpoint_bridge)\u001b[0m\n\u001b[0;32m     <a href='file:///c%3A/Users/user/anaconda3/envs/worker/lib/site-packages/botocore/args.py?line=67'>68</a>\u001b[0m \u001b[39mdef\u001b[39;00m \u001b[39mget_client_args\u001b[39m(\u001b[39mself\u001b[39m, service_model, region_name, is_secure,\n\u001b[0;32m     <a href='file:///c%3A/Users/user/anaconda3/envs/worker/lib/site-packages/botocore/args.py?line=68'>69</a>\u001b[0m                     endpoint_url, verify, credentials, scoped_config,\n\u001b[0;32m     <a href='file:///c%3A/Users/user/anaconda3/envs/worker/lib/site-packages/botocore/args.py?line=69'>70</a>\u001b[0m                     client_config, endpoint_bridge):\n\u001b[1;32m---> <a href='file:///c%3A/Users/user/anaconda3/envs/worker/lib/site-packages/botocore/args.py?line=70'>71</a>\u001b[0m     final_args \u001b[39m=\u001b[39m \u001b[39mself\u001b[39;49m\u001b[39m.\u001b[39;49mcompute_client_args(\n\u001b[0;32m     <a href='file:///c%3A/Users/user/anaconda3/envs/worker/lib/site-packages/botocore/args.py?line=71'>72</a>\u001b[0m         service_model, client_config, endpoint_bridge, region_name,\n\u001b[0;32m     <a href='file:///c%3A/Users/user/anaconda3/envs/worker/lib/site-packages/botocore/args.py?line=72'>73</a>\u001b[0m         endpoint_url, is_secure, scoped_config)\n\u001b[0;32m     <a href='file:///c%3A/Users/user/anaconda3/envs/worker/lib/site-packages/botocore/args.py?line=74'>75</a>\u001b[0m     service_name \u001b[39m=\u001b[39m final_args[\u001b[39m'\u001b[39m\u001b[39mservice_name\u001b[39m\u001b[39m'\u001b[39m] \u001b[39m# noqa\u001b[39;00m\n\u001b[0;32m     <a href='file:///c%3A/Users/user/anaconda3/envs/worker/lib/site-packages/botocore/args.py?line=75'>76</a>\u001b[0m     parameter_validation \u001b[39m=\u001b[39m final_args[\u001b[39m'\u001b[39m\u001b[39mparameter_validation\u001b[39m\u001b[39m'\u001b[39m]\n",
      "File \u001b[1;32mc:\\Users\\user\\anaconda3\\envs\\worker\\lib\\site-packages\\botocore\\args.py:148\u001b[0m, in \u001b[0;36mClientArgsCreator.compute_client_args\u001b[1;34m(self, service_model, client_config, endpoint_bridge, region_name, endpoint_url, is_secure, scoped_config)\u001b[0m\n\u001b[0;32m    <a href='file:///c%3A/Users/user/anaconda3/envs/worker/lib/site-packages/botocore/args.py?line=144'>145</a>\u001b[0m         user_agent \u001b[39m+\u001b[39m\u001b[39m=\u001b[39m \u001b[39m'\u001b[39m\u001b[39m \u001b[39m\u001b[39m%s\u001b[39;00m\u001b[39m'\u001b[39m \u001b[39m%\u001b[39m client_config\u001b[39m.\u001b[39muser_agent_extra\n\u001b[0;32m    <a href='file:///c%3A/Users/user/anaconda3/envs/worker/lib/site-packages/botocore/args.py?line=146'>147</a>\u001b[0m s3_config \u001b[39m=\u001b[39m \u001b[39mself\u001b[39m\u001b[39m.\u001b[39mcompute_s3_config(client_config)\n\u001b[1;32m--> <a href='file:///c%3A/Users/user/anaconda3/envs/worker/lib/site-packages/botocore/args.py?line=147'>148</a>\u001b[0m endpoint_config \u001b[39m=\u001b[39m \u001b[39mself\u001b[39;49m\u001b[39m.\u001b[39;49m_compute_endpoint_config(\n\u001b[0;32m    <a href='file:///c%3A/Users/user/anaconda3/envs/worker/lib/site-packages/botocore/args.py?line=148'>149</a>\u001b[0m     service_name\u001b[39m=\u001b[39;49mservice_name,\n\u001b[0;32m    <a href='file:///c%3A/Users/user/anaconda3/envs/worker/lib/site-packages/botocore/args.py?line=149'>150</a>\u001b[0m     region_name\u001b[39m=\u001b[39;49mregion_name,\n\u001b[0;32m    <a href='file:///c%3A/Users/user/anaconda3/envs/worker/lib/site-packages/botocore/args.py?line=150'>151</a>\u001b[0m     endpoint_url\u001b[39m=\u001b[39;49mendpoint_url,\n\u001b[0;32m    <a href='file:///c%3A/Users/user/anaconda3/envs/worker/lib/site-packages/botocore/args.py?line=151'>152</a>\u001b[0m     is_secure\u001b[39m=\u001b[39;49mis_secure,\n\u001b[0;32m    <a href='file:///c%3A/Users/user/anaconda3/envs/worker/lib/site-packages/botocore/args.py?line=152'>153</a>\u001b[0m     endpoint_bridge\u001b[39m=\u001b[39;49mendpoint_bridge,\n\u001b[0;32m    <a href='file:///c%3A/Users/user/anaconda3/envs/worker/lib/site-packages/botocore/args.py?line=153'>154</a>\u001b[0m     s3_config\u001b[39m=\u001b[39;49ms3_config,\n\u001b[0;32m    <a href='file:///c%3A/Users/user/anaconda3/envs/worker/lib/site-packages/botocore/args.py?line=154'>155</a>\u001b[0m )\n\u001b[0;32m    <a href='file:///c%3A/Users/user/anaconda3/envs/worker/lib/site-packages/botocore/args.py?line=155'>156</a>\u001b[0m endpoint_variant_tags \u001b[39m=\u001b[39m endpoint_config[\u001b[39m'\u001b[39m\u001b[39mmetadata\u001b[39m\u001b[39m'\u001b[39m]\u001b[39m.\u001b[39mget(\u001b[39m'\u001b[39m\u001b[39mtags\u001b[39m\u001b[39m'\u001b[39m, [])\n\u001b[0;32m    <a href='file:///c%3A/Users/user/anaconda3/envs/worker/lib/site-packages/botocore/args.py?line=156'>157</a>\u001b[0m \u001b[39m# Create a new client config to be passed to the client based\u001b[39;00m\n\u001b[0;32m    <a href='file:///c%3A/Users/user/anaconda3/envs/worker/lib/site-packages/botocore/args.py?line=157'>158</a>\u001b[0m \u001b[39m# on the final values. We do not want the user to be able\u001b[39;00m\n\u001b[0;32m    <a href='file:///c%3A/Users/user/anaconda3/envs/worker/lib/site-packages/botocore/args.py?line=158'>159</a>\u001b[0m \u001b[39m# to try to modify an existing client with a client config.\u001b[39;00m\n",
      "File \u001b[1;32mc:\\Users\\user\\anaconda3\\envs\\worker\\lib\\site-packages\\botocore\\args.py:234\u001b[0m, in \u001b[0;36mClientArgsCreator._compute_endpoint_config\u001b[1;34m(self, service_name, region_name, endpoint_url, is_secure, endpoint_bridge, s3_config)\u001b[0m\n\u001b[0;32m    <a href='file:///c%3A/Users/user/anaconda3/envs/worker/lib/site-packages/botocore/args.py?line=231'>232</a>\u001b[0m \u001b[39mif\u001b[39;00m service_name \u001b[39m==\u001b[39m \u001b[39m'\u001b[39m\u001b[39msts\u001b[39m\u001b[39m'\u001b[39m:\n\u001b[0;32m    <a href='file:///c%3A/Users/user/anaconda3/envs/worker/lib/site-packages/botocore/args.py?line=232'>233</a>\u001b[0m     \u001b[39mreturn\u001b[39;00m \u001b[39mself\u001b[39m\u001b[39m.\u001b[39m_compute_sts_endpoint_config(\u001b[39m*\u001b[39m\u001b[39m*\u001b[39mresolve_endpoint_kwargs)\n\u001b[1;32m--> <a href='file:///c%3A/Users/user/anaconda3/envs/worker/lib/site-packages/botocore/args.py?line=233'>234</a>\u001b[0m \u001b[39mreturn\u001b[39;00m \u001b[39mself\u001b[39;49m\u001b[39m.\u001b[39;49m_resolve_endpoint(\u001b[39m*\u001b[39;49m\u001b[39m*\u001b[39;49mresolve_endpoint_kwargs)\n",
      "File \u001b[1;32mc:\\Users\\user\\anaconda3\\envs\\worker\\lib\\site-packages\\botocore\\args.py:320\u001b[0m, in \u001b[0;36mClientArgsCreator._resolve_endpoint\u001b[1;34m(self, service_name, region_name, endpoint_url, is_secure, endpoint_bridge)\u001b[0m\n\u001b[0;32m    <a href='file:///c%3A/Users/user/anaconda3/envs/worker/lib/site-packages/botocore/args.py?line=317'>318</a>\u001b[0m \u001b[39mdef\u001b[39;00m \u001b[39m_resolve_endpoint\u001b[39m(\u001b[39mself\u001b[39m, service_name, region_name,\n\u001b[0;32m    <a href='file:///c%3A/Users/user/anaconda3/envs/worker/lib/site-packages/botocore/args.py?line=318'>319</a>\u001b[0m                       endpoint_url, is_secure, endpoint_bridge):\n\u001b[1;32m--> <a href='file:///c%3A/Users/user/anaconda3/envs/worker/lib/site-packages/botocore/args.py?line=319'>320</a>\u001b[0m     \u001b[39mreturn\u001b[39;00m endpoint_bridge\u001b[39m.\u001b[39;49mresolve(\n\u001b[0;32m    <a href='file:///c%3A/Users/user/anaconda3/envs/worker/lib/site-packages/botocore/args.py?line=320'>321</a>\u001b[0m         service_name, region_name, endpoint_url, is_secure)\n",
      "File \u001b[1;32mc:\\Users\\user\\anaconda3\\envs\\worker\\lib\\site-packages\\botocore\\client.py:451\u001b[0m, in \u001b[0;36mClientEndpointBridge.resolve\u001b[1;34m(self, service_name, region_name, endpoint_url, is_secure)\u001b[0m\n\u001b[0;32m    <a href='file:///c%3A/Users/user/anaconda3/envs/worker/lib/site-packages/botocore/client.py?line=445'>446</a>\u001b[0m use_dualstack_endpoint \u001b[39m=\u001b[39m \u001b[39mself\u001b[39m\u001b[39m.\u001b[39m_resolve_use_dualstack_endpoint(\n\u001b[0;32m    <a href='file:///c%3A/Users/user/anaconda3/envs/worker/lib/site-packages/botocore/client.py?line=446'>447</a>\u001b[0m     service_name)\n\u001b[0;32m    <a href='file:///c%3A/Users/user/anaconda3/envs/worker/lib/site-packages/botocore/client.py?line=447'>448</a>\u001b[0m use_fips_endpoint \u001b[39m=\u001b[39m \u001b[39mself\u001b[39m\u001b[39m.\u001b[39m_resolve_endpoint_variant_config_var(\n\u001b[0;32m    <a href='file:///c%3A/Users/user/anaconda3/envs/worker/lib/site-packages/botocore/client.py?line=448'>449</a>\u001b[0m     \u001b[39m'\u001b[39m\u001b[39muse_fips_endpoint\u001b[39m\u001b[39m'\u001b[39m\n\u001b[0;32m    <a href='file:///c%3A/Users/user/anaconda3/envs/worker/lib/site-packages/botocore/client.py?line=449'>450</a>\u001b[0m )\n\u001b[1;32m--> <a href='file:///c%3A/Users/user/anaconda3/envs/worker/lib/site-packages/botocore/client.py?line=450'>451</a>\u001b[0m resolved \u001b[39m=\u001b[39m \u001b[39mself\u001b[39;49m\u001b[39m.\u001b[39;49mendpoint_resolver\u001b[39m.\u001b[39;49mconstruct_endpoint(\n\u001b[0;32m    <a href='file:///c%3A/Users/user/anaconda3/envs/worker/lib/site-packages/botocore/client.py?line=451'>452</a>\u001b[0m     service_name, region_name,\n\u001b[0;32m    <a href='file:///c%3A/Users/user/anaconda3/envs/worker/lib/site-packages/botocore/client.py?line=452'>453</a>\u001b[0m     use_dualstack_endpoint\u001b[39m=\u001b[39;49muse_dualstack_endpoint,\n\u001b[0;32m    <a href='file:///c%3A/Users/user/anaconda3/envs/worker/lib/site-packages/botocore/client.py?line=453'>454</a>\u001b[0m     use_fips_endpoint\u001b[39m=\u001b[39;49muse_fips_endpoint,\n\u001b[0;32m    <a href='file:///c%3A/Users/user/anaconda3/envs/worker/lib/site-packages/botocore/client.py?line=454'>455</a>\u001b[0m )\n\u001b[0;32m    <a href='file:///c%3A/Users/user/anaconda3/envs/worker/lib/site-packages/botocore/client.py?line=456'>457</a>\u001b[0m \u001b[39m# If we can't resolve the region, we'll attempt to get a global\u001b[39;00m\n\u001b[0;32m    <a href='file:///c%3A/Users/user/anaconda3/envs/worker/lib/site-packages/botocore/client.py?line=457'>458</a>\u001b[0m \u001b[39m# endpoint for non-regionalized services (iam, route53, etc)\u001b[39;00m\n\u001b[0;32m    <a href='file:///c%3A/Users/user/anaconda3/envs/worker/lib/site-packages/botocore/client.py?line=458'>459</a>\u001b[0m \u001b[39mif\u001b[39;00m \u001b[39mnot\u001b[39;00m resolved:\n\u001b[0;32m    <a href='file:///c%3A/Users/user/anaconda3/envs/worker/lib/site-packages/botocore/client.py?line=459'>460</a>\u001b[0m     \u001b[39m# TODO: fallback partition_name should be configurable in the\u001b[39;00m\n\u001b[0;32m    <a href='file:///c%3A/Users/user/anaconda3/envs/worker/lib/site-packages/botocore/client.py?line=460'>461</a>\u001b[0m     \u001b[39m# future for users to define as needed.\u001b[39;00m\n",
      "File \u001b[1;32mc:\\Users\\user\\anaconda3\\envs\\worker\\lib\\site-packages\\botocore\\regions.py:183\u001b[0m, in \u001b[0;36mEndpointResolver.construct_endpoint\u001b[1;34m(self, service_name, region_name, partition_name, use_dualstack_endpoint, use_fips_endpoint)\u001b[0m\n\u001b[0;32m    <a href='file:///c%3A/Users/user/anaconda3/envs/worker/lib/site-packages/botocore/regions.py?line=178'>179</a>\u001b[0m \u001b[39mif\u001b[39;00m use_dualstack_endpoint \u001b[39mand\u001b[39;00m (\n\u001b[0;32m    <a href='file:///c%3A/Users/user/anaconda3/envs/worker/lib/site-packages/botocore/regions.py?line=179'>180</a>\u001b[0m         partition[\u001b[39m'\u001b[39m\u001b[39mpartition\u001b[39m\u001b[39m'\u001b[39m] \u001b[39min\u001b[39;00m\n\u001b[0;32m    <a href='file:///c%3A/Users/user/anaconda3/envs/worker/lib/site-packages/botocore/regions.py?line=180'>181</a>\u001b[0m         \u001b[39mself\u001b[39m\u001b[39m.\u001b[39m_UNSUPPORTED_DUALSTACK_PARTITIONS):\n\u001b[0;32m    <a href='file:///c%3A/Users/user/anaconda3/envs/worker/lib/site-packages/botocore/regions.py?line=181'>182</a>\u001b[0m     \u001b[39mcontinue\u001b[39;00m\n\u001b[1;32m--> <a href='file:///c%3A/Users/user/anaconda3/envs/worker/lib/site-packages/botocore/regions.py?line=182'>183</a>\u001b[0m result \u001b[39m=\u001b[39m \u001b[39mself\u001b[39;49m\u001b[39m.\u001b[39;49m_endpoint_for_partition(\n\u001b[0;32m    <a href='file:///c%3A/Users/user/anaconda3/envs/worker/lib/site-packages/botocore/regions.py?line=183'>184</a>\u001b[0m     partition, service_name, region_name, use_dualstack_endpoint,\n\u001b[0;32m    <a href='file:///c%3A/Users/user/anaconda3/envs/worker/lib/site-packages/botocore/regions.py?line=184'>185</a>\u001b[0m     use_fips_endpoint\n\u001b[0;32m    <a href='file:///c%3A/Users/user/anaconda3/envs/worker/lib/site-packages/botocore/regions.py?line=185'>186</a>\u001b[0m )\n\u001b[0;32m    <a href='file:///c%3A/Users/user/anaconda3/envs/worker/lib/site-packages/botocore/regions.py?line=186'>187</a>\u001b[0m \u001b[39mif\u001b[39;00m result:\n\u001b[0;32m    <a href='file:///c%3A/Users/user/anaconda3/envs/worker/lib/site-packages/botocore/regions.py?line=187'>188</a>\u001b[0m     \u001b[39mreturn\u001b[39;00m result\n",
      "File \u001b[1;32mc:\\Users\\user\\anaconda3\\envs\\worker\\lib\\site-packages\\botocore\\regions.py:217\u001b[0m, in \u001b[0;36mEndpointResolver._endpoint_for_partition\u001b[1;34m(self, partition, service_name, region_name, use_dualstack_endpoint, use_fips_endpoint, force_partition)\u001b[0m\n\u001b[0;32m    <a href='file:///c%3A/Users/user/anaconda3/envs/worker/lib/site-packages/botocore/regions.py?line=214'>215</a>\u001b[0m         region_name \u001b[39m=\u001b[39m service_data[\u001b[39m'\u001b[39m\u001b[39mpartitionEndpoint\u001b[39m\u001b[39m'\u001b[39m]\n\u001b[0;32m    <a href='file:///c%3A/Users/user/anaconda3/envs/worker/lib/site-packages/botocore/regions.py?line=215'>216</a>\u001b[0m     \u001b[39melse\u001b[39;00m:\n\u001b[1;32m--> <a href='file:///c%3A/Users/user/anaconda3/envs/worker/lib/site-packages/botocore/regions.py?line=216'>217</a>\u001b[0m         \u001b[39mraise\u001b[39;00m NoRegionError()\n\u001b[0;32m    <a href='file:///c%3A/Users/user/anaconda3/envs/worker/lib/site-packages/botocore/regions.py?line=218'>219</a>\u001b[0m resolve_kwargs \u001b[39m=\u001b[39m {\n\u001b[0;32m    <a href='file:///c%3A/Users/user/anaconda3/envs/worker/lib/site-packages/botocore/regions.py?line=219'>220</a>\u001b[0m     \u001b[39m'\u001b[39m\u001b[39mpartition\u001b[39m\u001b[39m'\u001b[39m: partition,\n\u001b[0;32m    <a href='file:///c%3A/Users/user/anaconda3/envs/worker/lib/site-packages/botocore/regions.py?line=220'>221</a>\u001b[0m     \u001b[39m'\u001b[39m\u001b[39mservice_name\u001b[39m\u001b[39m'\u001b[39m: service_name,\n\u001b[1;32m   (...)\u001b[0m\n\u001b[0;32m    <a href='file:///c%3A/Users/user/anaconda3/envs/worker/lib/site-packages/botocore/regions.py?line=224'>225</a>\u001b[0m     \u001b[39m'\u001b[39m\u001b[39muse_fips_endpoint\u001b[39m\u001b[39m'\u001b[39m: use_fips_endpoint,\n\u001b[0;32m    <a href='file:///c%3A/Users/user/anaconda3/envs/worker/lib/site-packages/botocore/regions.py?line=225'>226</a>\u001b[0m }\n\u001b[0;32m    <a href='file:///c%3A/Users/user/anaconda3/envs/worker/lib/site-packages/botocore/regions.py?line=227'>228</a>\u001b[0m \u001b[39m# Attempt to resolve the exact region for this partition.\u001b[39;00m\n",
      "\u001b[1;31mNoRegionError\u001b[0m: You must specify a region."
     ]
    }
   ],
   "source": [
    "import boto3\n",
    "\n",
    "\n",
    "def create_movie_table(dynamodb=None):\n",
    "    if not dynamodb:\n",
    "        dynamodb = boto3.resource('dynamodb', endpoint_url=\"http://localhost:8000\")\n",
    "\n",
    "    table = dynamodb.create_table(\n",
    "        TableName='Video',\n",
    "        KeySchema=[\n",
    "            {\n",
    "                'AttributeName': 'key',\n",
    "                'KeyType': 'HASH'  # Partition key\n",
    "            },\n",
    "        ],\n",
    "        AttributeDefinitions=[\n",
    "            {\n",
    "                'AttributeName': 'key',\n",
    "                'AttributeType': 'S'\n",
    "            },\n",
    "        ],\n",
    "        ProvisionedThroughput={\n",
    "            'ReadCapacityUnits': 10,\n",
    "            'WriteCapacityUnits': 10\n",
    "        }\n",
    "    )\n",
    "    return table\n",
    "\n",
    "\n",
    "if __name__ == '__main__':\n",
    "    movie_table = create_movie_table()\n",
    "    print(\"Table status:\", movie_table.table_status)"
   ]
  },
  {
   "cell_type": "code",
   "execution_count": 1,
   "metadata": {},
   "outputs": [],
   "source": [
    "import boto3\n",
    "from summarizer.infrastructure.repository import VideoRepository\n",
    "dynamodb = boto3.resource('dynamodb', endpoint_url=\"http://localhost:8000\")\n",
    "videeoTable = dynamodb.Table('Video')\n",
    "repo = VideoRepository(dynamodb, algorithm='yolov3')"
   ]
  },
  {
   "cell_type": "code",
   "execution_count": 5,
   "metadata": {},
   "outputs": [
    {
     "data": {
      "text/plain": [
       "{'Items': [{'end_time': None,\n",
       "   'start_time': '2022/04/10 00:15:44',\n",
       "   'key': '2022/04/10 00:15:44',\n",
       "   'url': 'tests/2.mp4',\n",
       "   'status': 'start'},\n",
       "  {'end_time': None,\n",
       "   'start_time': '2022/04/07 20:49:24',\n",
       "   'key': '$2022/04/07 20:49:24',\n",
       "   'url': 'tests/2.mp4',\n",
       "   'status': 'start'},\n",
       "  {'end_time': None,\n",
       "   'start_time': '2022/04/07 20:51:10',\n",
       "   'key': '$2022/04/07 20:51:10',\n",
       "   'url': 'tests/2.mp4',\n",
       "   'status': 'start'},\n",
       "  {'end_time': None,\n",
       "   'start_time': '2022/04/07 20:50:26',\n",
       "   'key': '$2022/04/07 20:50:26',\n",
       "   'url': 'tests/2.mp4',\n",
       "   'status': 'start'},\n",
       "  {'end_time': None,\n",
       "   'start_time': '2022/04/07 20:52:39',\n",
       "   'key': '$2022/04/07 20:52:39',\n",
       "   'url': 'tests/2.mp4',\n",
       "   'status': 'start'},\n",
       "  {'end_time': None,\n",
       "   'start_time': '2022/04/07, 20:46:55',\n",
       "   'key': '$2022/04/07, 20:46:55',\n",
       "   'url': 'tests/2.mp4',\n",
       "   'status': 'start2'},\n",
       "  {'end_time': None,\n",
       "   'start_time': '2022/04/07 20:51:49',\n",
       "   'key': '$2022/04/07 20:51:49',\n",
       "   'url': 'tests/2.mp4',\n",
       "   'status': 'start'}],\n",
       " 'Count': 7,\n",
       " 'ScannedCount': 7,\n",
       " 'ResponseMetadata': {'RequestId': '2f694d87-98e9-43a2-9d7c-9ed2e9b10fcb',\n",
       "  'HTTPStatusCode': 200,\n",
       "  'HTTPHeaders': {'date': 'Sat, 09 Apr 2022 16:15:35 GMT',\n",
       "   'content-type': 'application/x-amz-json-1.0',\n",
       "   'x-amz-crc32': '965975216',\n",
       "   'x-amzn-requestid': '2f694d87-98e9-43a2-9d7c-9ed2e9b10fcb',\n",
       "   'content-length': '1104',\n",
       "   'server': 'Jetty(9.4.18.v20190429)'},\n",
       "  'RetryAttempts': 0}}"
      ]
     },
     "execution_count": 5,
     "metadata": {},
     "output_type": "execute_result"
    }
   ],
   "source": [
    "videeoTable.scan()"
   ]
  },
  {
   "cell_type": "code",
   "execution_count": 8,
   "metadata": {},
   "outputs": [
    {
     "data": {
      "text/plain": [
       "{'Item': {'end_time': None,\n",
       "  'start_time': '2022/04/10 00:15:44',\n",
       "  'key': '2022/04/10 00:15:44',\n",
       "  'url': 'tests/2.mp4',\n",
       "  'status': 'start'},\n",
       " 'ResponseMetadata': {'RequestId': '39e625c0-d486-46ce-acde-779168462bda',\n",
       "  'HTTPStatusCode': 200,\n",
       "  'HTTPHeaders': {'date': 'Sat, 09 Apr 2022 16:16:21 GMT',\n",
       "   'content-type': 'application/x-amz-json-1.0',\n",
       "   'x-amz-crc32': '34169541',\n",
       "   'x-amzn-requestid': '39e625c0-d486-46ce-acde-779168462bda',\n",
       "   'content-length': '159',\n",
       "   'server': 'Jetty(9.4.18.v20190429)'},\n",
       "  'RetryAttempts': 0}}"
      ]
     },
     "execution_count": 8,
     "metadata": {},
     "output_type": "execute_result"
    }
   ],
   "source": [
    "videeoTable.get_item(Key={\"key\":'2022/04/10 00:15:44'[Item]])"
   ]
  },
  {
   "cell_type": "code",
   "execution_count": 9,
   "metadata": {},
   "outputs": [
    {
     "ename": "ValidationError",
     "evalue": "1 validation error for Video\nkey\n  field required (type=value_error.missing)",
     "output_type": "error",
     "traceback": [
      "\u001b[0;31m---------------------------------------------------------------------------\u001b[0m",
      "\u001b[0;31mValidationError\u001b[0m                           Traceback (most recent call last)",
      "\u001b[1;32m/Users/jeonminsu/Desktop/Project/capstone1/summarizer-worker/test.ipynb Cell 11'\u001b[0m in \u001b[0;36m<cell line: 1>\u001b[0;34m()\u001b[0m\n\u001b[0;32m----> <a href='vscode-notebook-cell:/Users/jeonminsu/Desktop/Project/capstone1/summarizer-worker/test.ipynb#ch0000010?line=0'>1</a>\u001b[0m x \u001b[39m=\u001b[39m repo\u001b[39m.\u001b[39;49mget(\u001b[39m'\u001b[39;49m\u001b[39m2022/04/10 00:15:44\u001b[39;49m\u001b[39m'\u001b[39;49m)\n",
      "File \u001b[0;32m~/Desktop/Project/capstone1/summarizer-worker/summarizer/infrastructure/repository/video_repository.py:24\u001b[0m, in \u001b[0;36mVideoRepository.get\u001b[0;34m(self, key)\u001b[0m\n\u001b[1;32m     <a href='file:///Users/jeonminsu/Desktop/Project/capstone1/summarizer-worker/summarizer/infrastructure/repository/video_repository.py?line=21'>22</a>\u001b[0m \u001b[39mdef\u001b[39;00m \u001b[39mget\u001b[39m(\u001b[39mself\u001b[39m, key):\n\u001b[1;32m     <a href='file:///Users/jeonminsu/Desktop/Project/capstone1/summarizer-worker/summarizer/infrastructure/repository/video_repository.py?line=22'>23</a>\u001b[0m     item \u001b[39m=\u001b[39m VideoData(\u001b[39m*\u001b[39m\u001b[39m*\u001b[39m(\u001b[39mself\u001b[39m\u001b[39m.\u001b[39mtable\u001b[39m.\u001b[39mget_item(Key\u001b[39m=\u001b[39m{\u001b[39m\"\u001b[39m\u001b[39mkey\u001b[39m\u001b[39m\"\u001b[39m:key})[\u001b[39m'\u001b[39m\u001b[39mItem\u001b[39m\u001b[39m'\u001b[39m]))\n\u001b[0;32m---> <a href='file:///Users/jeonminsu/Desktop/Project/capstone1/summarizer-worker/summarizer/infrastructure/repository/video_repository.py?line=23'>24</a>\u001b[0m     \u001b[39mreturn\u001b[39;00m Video(url\u001b[39m=\u001b[39;49mitem\u001b[39m.\u001b[39;49murl, algorithm\u001b[39m=\u001b[39;49m\u001b[39mself\u001b[39;49m\u001b[39m.\u001b[39;49malgorithm)\n",
      "File \u001b[0;32m~/Desktop/Project/capstone1/summarizer-worker/summarizer/domain/model/video.py:19\u001b[0m, in \u001b[0;36mVideo.__init__\u001b[0;34m(self, **kwargs)\u001b[0m\n\u001b[1;32m     <a href='file:///Users/jeonminsu/Desktop/Project/capstone1/summarizer-worker/summarizer/domain/model/video.py?line=17'>18</a>\u001b[0m \u001b[39mdef\u001b[39;00m \u001b[39m__init__\u001b[39m(\u001b[39mself\u001b[39m, \u001b[39m*\u001b[39m\u001b[39m*\u001b[39mkwargs):\n\u001b[0;32m---> <a href='file:///Users/jeonminsu/Desktop/Project/capstone1/summarizer-worker/summarizer/domain/model/video.py?line=18'>19</a>\u001b[0m     \u001b[39msuper\u001b[39;49m()\u001b[39m.\u001b[39;49m\u001b[39m__init__\u001b[39;49m(\u001b[39m*\u001b[39;49m\u001b[39m*\u001b[39;49mkwargs)\n\u001b[1;32m     <a href='file:///Users/jeonminsu/Desktop/Project/capstone1/summarizer-worker/summarizer/domain/model/video.py?line=19'>20</a>\u001b[0m     cap \u001b[39m=\u001b[39m cv2\u001b[39m.\u001b[39mVideoCapture(\u001b[39mself\u001b[39m\u001b[39m.\u001b[39murl)\n\u001b[1;32m     <a href='file:///Users/jeonminsu/Desktop/Project/capstone1/summarizer-worker/summarizer/domain/model/video.py?line=20'>21</a>\u001b[0m     \u001b[39mself\u001b[39m\u001b[39m.\u001b[39mparameter \u001b[39m=\u001b[39m {\n\u001b[1;32m     <a href='file:///Users/jeonminsu/Desktop/Project/capstone1/summarizer-worker/summarizer/domain/model/video.py?line=21'>22</a>\u001b[0m         \u001b[39m\"\u001b[39m\u001b[39mlength\u001b[39m\u001b[39m\"\u001b[39m : \u001b[39mint\u001b[39m(cap\u001b[39m.\u001b[39mget(cv2\u001b[39m.\u001b[39mCAP_PROP_FRAME_COUNT)),\n\u001b[1;32m     <a href='file:///Users/jeonminsu/Desktop/Project/capstone1/summarizer-worker/summarizer/domain/model/video.py?line=22'>23</a>\u001b[0m         \u001b[39m\"\u001b[39m\u001b[39mwidth\u001b[39m\u001b[39m\"\u001b[39m : \u001b[39mint\u001b[39m(cap\u001b[39m.\u001b[39mget(cv2\u001b[39m.\u001b[39mCAP_PROP_FRAME_WIDTH)),\n\u001b[1;32m     <a href='file:///Users/jeonminsu/Desktop/Project/capstone1/summarizer-worker/summarizer/domain/model/video.py?line=23'>24</a>\u001b[0m         \u001b[39m\"\u001b[39m\u001b[39mheight\u001b[39m\u001b[39m\"\u001b[39m : \u001b[39mint\u001b[39m(cap\u001b[39m.\u001b[39mget(cv2\u001b[39m.\u001b[39mCAP_PROP_FRAME_HEIGHT)),\n\u001b[1;32m     <a href='file:///Users/jeonminsu/Desktop/Project/capstone1/summarizer-worker/summarizer/domain/model/video.py?line=24'>25</a>\u001b[0m         \u001b[39m\"\u001b[39m\u001b[39mfps\u001b[39m\u001b[39m\"\u001b[39m : cap\u001b[39m.\u001b[39mget(cv2\u001b[39m.\u001b[39mCAP_PROP_FPS),\n\u001b[1;32m     <a href='file:///Users/jeonminsu/Desktop/Project/capstone1/summarizer-worker/summarizer/domain/model/video.py?line=25'>26</a>\u001b[0m     }\n",
      "File \u001b[0;32m~/Library/Caches/pypoetry/virtualenvs/summarizer-server-05flj79H-py3.8/lib/python3.8/site-packages/pydantic/main.py:331\u001b[0m, in \u001b[0;36mpydantic.main.BaseModel.__init__\u001b[0;34m()\u001b[0m\n",
      "\u001b[0;31mValidationError\u001b[0m: 1 validation error for Video\nkey\n  field required (type=value_error.missing)"
     ]
    }
   ],
   "source": [
    "x = repo.get('2022/04/10 00:15:44')"
   ]
  },
  {
   "cell_type": "code",
   "execution_count": null,
   "metadata": {},
   "outputs": [],
   "source": [
    "print(x)"
   ]
  },
  {
   "cell_type": "code",
   "execution_count": null,
   "metadata": {},
   "outputs": [],
   "source": [
    "x = movie_table.get_item(Key={\"key\":'abc'})"
   ]
  },
  {
   "cell_type": "code",
   "execution_count": null,
   "metadata": {},
   "outputs": [],
   "source": [
    "print(VideoFeature(**x['Item']))"
   ]
  },
  {
   "cell_type": "code",
   "execution_count": null,
   "metadata": {},
   "outputs": [],
   "source": [
    "from summarizer.interface.settings import Settings\n",
    "from summarizer.interface.sink_app import SinkApp\n",
    "\n",
    "\n",
    "app = SinkApp(Settings())\n",
    "app.run()"
   ]
  },
  {
   "cell_type": "code",
   "execution_count": 1,
   "metadata": {},
   "outputs": [
    {
     "ename": "TypeError",
     "evalue": "Object of type ExtractFeature is not JSON serializable",
     "output_type": "error",
     "traceback": [
      "\u001b[0;31m---------------------------------------------------------------------------\u001b[0m",
      "\u001b[0;31mTypeError\u001b[0m                                 Traceback (most recent call last)",
      "\u001b[1;32m/Users/jeonminsu/Desktop/Project/capstone1/summarizer-worker/test.ipynb Cell 16'\u001b[0m in \u001b[0;36m<cell line: 6>\u001b[0;34m()\u001b[0m\n\u001b[1;32m      <a href='vscode-notebook-cell:/Users/jeonminsu/Desktop/Project/capstone1/summarizer-worker/test.ipynb#ch0000015?line=3'>4</a>\u001b[0m redis \u001b[39m=\u001b[39m Redis(host\u001b[39m=\u001b[39m\u001b[39m\"\u001b[39m\u001b[39m127.0.0.1\u001b[39m\u001b[39m\"\u001b[39m, port\u001b[39m=\u001b[39m\u001b[39m\"\u001b[39m\u001b[39m6379\u001b[39m\u001b[39m\"\u001b[39m)\n\u001b[1;32m      <a href='vscode-notebook-cell:/Users/jeonminsu/Desktop/Project/capstone1/summarizer-worker/test.ipynb#ch0000015?line=4'>5</a>\u001b[0m \u001b[39mfrom\u001b[39;00m \u001b[39msummarizer\u001b[39;00m\u001b[39m.\u001b[39;00m\u001b[39mservice\u001b[39;00m\u001b[39m.\u001b[39;00m\u001b[39mcommand\u001b[39;00m \u001b[39mimport\u001b[39;00m ExtractFeature\n\u001b[0;32m----> <a href='vscode-notebook-cell:/Users/jeonminsu/Desktop/Project/capstone1/summarizer-worker/test.ipynb#ch0000015?line=5'>6</a>\u001b[0m string \u001b[39m=\u001b[39m json\u001b[39m.\u001b[39;49mdumps(ExtractFeature(\u001b[39mtype\u001b[39;49m\u001b[39m=\u001b[39;49m\u001b[39m\"\u001b[39;49m\u001b[39mExtractFeature\u001b[39;49m\u001b[39m\"\u001b[39;49m, key\u001b[39m=\u001b[39;49m\u001b[39m'\u001b[39;49m\u001b[39m2022/04/10 00:15:44\u001b[39;49m\u001b[39m'\u001b[39;49m))\n\u001b[1;32m      <a href='vscode-notebook-cell:/Users/jeonminsu/Desktop/Project/capstone1/summarizer-worker/test.ipynb#ch0000015?line=6'>7</a>\u001b[0m \u001b[39mprint\u001b[39m(string,\u001b[39mtype\u001b[39m(string))\n\u001b[1;32m      <a href='vscode-notebook-cell:/Users/jeonminsu/Desktop/Project/capstone1/summarizer-worker/test.ipynb#ch0000015?line=7'>8</a>\u001b[0m redis\u001b[39m.\u001b[39mlpush(\u001b[39m'\u001b[39m\u001b[39msummarizer\u001b[39m\u001b[39m'\u001b[39m,string)\n",
      "File \u001b[0;32m/Applications/Xcode.app/Contents/Developer/Library/Frameworks/Python3.framework/Versions/3.8/lib/python3.8/json/__init__.py:231\u001b[0m, in \u001b[0;36mdumps\u001b[0;34m(obj, skipkeys, ensure_ascii, check_circular, allow_nan, cls, indent, separators, default, sort_keys, **kw)\u001b[0m\n\u001b[1;32m    <a href='file:///Applications/Xcode.app/Contents/Developer/Library/Frameworks/Python3.framework/Versions/3.8/lib/python3.8/json/__init__.py?line=225'>226</a>\u001b[0m \u001b[39m# cached encoder\u001b[39;00m\n\u001b[1;32m    <a href='file:///Applications/Xcode.app/Contents/Developer/Library/Frameworks/Python3.framework/Versions/3.8/lib/python3.8/json/__init__.py?line=226'>227</a>\u001b[0m \u001b[39mif\u001b[39;00m (\u001b[39mnot\u001b[39;00m skipkeys \u001b[39mand\u001b[39;00m ensure_ascii \u001b[39mand\u001b[39;00m\n\u001b[1;32m    <a href='file:///Applications/Xcode.app/Contents/Developer/Library/Frameworks/Python3.framework/Versions/3.8/lib/python3.8/json/__init__.py?line=227'>228</a>\u001b[0m     check_circular \u001b[39mand\u001b[39;00m allow_nan \u001b[39mand\u001b[39;00m\n\u001b[1;32m    <a href='file:///Applications/Xcode.app/Contents/Developer/Library/Frameworks/Python3.framework/Versions/3.8/lib/python3.8/json/__init__.py?line=228'>229</a>\u001b[0m     \u001b[39mcls\u001b[39m \u001b[39mis\u001b[39;00m \u001b[39mNone\u001b[39;00m \u001b[39mand\u001b[39;00m indent \u001b[39mis\u001b[39;00m \u001b[39mNone\u001b[39;00m \u001b[39mand\u001b[39;00m separators \u001b[39mis\u001b[39;00m \u001b[39mNone\u001b[39;00m \u001b[39mand\u001b[39;00m\n\u001b[1;32m    <a href='file:///Applications/Xcode.app/Contents/Developer/Library/Frameworks/Python3.framework/Versions/3.8/lib/python3.8/json/__init__.py?line=229'>230</a>\u001b[0m     default \u001b[39mis\u001b[39;00m \u001b[39mNone\u001b[39;00m \u001b[39mand\u001b[39;00m \u001b[39mnot\u001b[39;00m sort_keys \u001b[39mand\u001b[39;00m \u001b[39mnot\u001b[39;00m kw):\n\u001b[0;32m--> <a href='file:///Applications/Xcode.app/Contents/Developer/Library/Frameworks/Python3.framework/Versions/3.8/lib/python3.8/json/__init__.py?line=230'>231</a>\u001b[0m     \u001b[39mreturn\u001b[39;00m _default_encoder\u001b[39m.\u001b[39;49mencode(obj)\n\u001b[1;32m    <a href='file:///Applications/Xcode.app/Contents/Developer/Library/Frameworks/Python3.framework/Versions/3.8/lib/python3.8/json/__init__.py?line=231'>232</a>\u001b[0m \u001b[39mif\u001b[39;00m \u001b[39mcls\u001b[39m \u001b[39mis\u001b[39;00m \u001b[39mNone\u001b[39;00m:\n\u001b[1;32m    <a href='file:///Applications/Xcode.app/Contents/Developer/Library/Frameworks/Python3.framework/Versions/3.8/lib/python3.8/json/__init__.py?line=232'>233</a>\u001b[0m     \u001b[39mcls\u001b[39m \u001b[39m=\u001b[39m JSONEncoder\n",
      "File \u001b[0;32m/Applications/Xcode.app/Contents/Developer/Library/Frameworks/Python3.framework/Versions/3.8/lib/python3.8/json/encoder.py:199\u001b[0m, in \u001b[0;36mJSONEncoder.encode\u001b[0;34m(self, o)\u001b[0m\n\u001b[1;32m    <a href='file:///Applications/Xcode.app/Contents/Developer/Library/Frameworks/Python3.framework/Versions/3.8/lib/python3.8/json/encoder.py?line=194'>195</a>\u001b[0m         \u001b[39mreturn\u001b[39;00m encode_basestring(o)\n\u001b[1;32m    <a href='file:///Applications/Xcode.app/Contents/Developer/Library/Frameworks/Python3.framework/Versions/3.8/lib/python3.8/json/encoder.py?line=195'>196</a>\u001b[0m \u001b[39m# This doesn't pass the iterator directly to ''.join() because the\u001b[39;00m\n\u001b[1;32m    <a href='file:///Applications/Xcode.app/Contents/Developer/Library/Frameworks/Python3.framework/Versions/3.8/lib/python3.8/json/encoder.py?line=196'>197</a>\u001b[0m \u001b[39m# exceptions aren't as detailed.  The list call should be roughly\u001b[39;00m\n\u001b[1;32m    <a href='file:///Applications/Xcode.app/Contents/Developer/Library/Frameworks/Python3.framework/Versions/3.8/lib/python3.8/json/encoder.py?line=197'>198</a>\u001b[0m \u001b[39m# equivalent to the PySequence_Fast that ''.join() would do.\u001b[39;00m\n\u001b[0;32m--> <a href='file:///Applications/Xcode.app/Contents/Developer/Library/Frameworks/Python3.framework/Versions/3.8/lib/python3.8/json/encoder.py?line=198'>199</a>\u001b[0m chunks \u001b[39m=\u001b[39m \u001b[39mself\u001b[39;49m\u001b[39m.\u001b[39;49miterencode(o, _one_shot\u001b[39m=\u001b[39;49m\u001b[39mTrue\u001b[39;49;00m)\n\u001b[1;32m    <a href='file:///Applications/Xcode.app/Contents/Developer/Library/Frameworks/Python3.framework/Versions/3.8/lib/python3.8/json/encoder.py?line=199'>200</a>\u001b[0m \u001b[39mif\u001b[39;00m \u001b[39mnot\u001b[39;00m \u001b[39misinstance\u001b[39m(chunks, (\u001b[39mlist\u001b[39m, \u001b[39mtuple\u001b[39m)):\n\u001b[1;32m    <a href='file:///Applications/Xcode.app/Contents/Developer/Library/Frameworks/Python3.framework/Versions/3.8/lib/python3.8/json/encoder.py?line=200'>201</a>\u001b[0m     chunks \u001b[39m=\u001b[39m \u001b[39mlist\u001b[39m(chunks)\n",
      "File \u001b[0;32m/Applications/Xcode.app/Contents/Developer/Library/Frameworks/Python3.framework/Versions/3.8/lib/python3.8/json/encoder.py:257\u001b[0m, in \u001b[0;36mJSONEncoder.iterencode\u001b[0;34m(self, o, _one_shot)\u001b[0m\n\u001b[1;32m    <a href='file:///Applications/Xcode.app/Contents/Developer/Library/Frameworks/Python3.framework/Versions/3.8/lib/python3.8/json/encoder.py?line=251'>252</a>\u001b[0m \u001b[39melse\u001b[39;00m:\n\u001b[1;32m    <a href='file:///Applications/Xcode.app/Contents/Developer/Library/Frameworks/Python3.framework/Versions/3.8/lib/python3.8/json/encoder.py?line=252'>253</a>\u001b[0m     _iterencode \u001b[39m=\u001b[39m _make_iterencode(\n\u001b[1;32m    <a href='file:///Applications/Xcode.app/Contents/Developer/Library/Frameworks/Python3.framework/Versions/3.8/lib/python3.8/json/encoder.py?line=253'>254</a>\u001b[0m         markers, \u001b[39mself\u001b[39m\u001b[39m.\u001b[39mdefault, _encoder, \u001b[39mself\u001b[39m\u001b[39m.\u001b[39mindent, floatstr,\n\u001b[1;32m    <a href='file:///Applications/Xcode.app/Contents/Developer/Library/Frameworks/Python3.framework/Versions/3.8/lib/python3.8/json/encoder.py?line=254'>255</a>\u001b[0m         \u001b[39mself\u001b[39m\u001b[39m.\u001b[39mkey_separator, \u001b[39mself\u001b[39m\u001b[39m.\u001b[39mitem_separator, \u001b[39mself\u001b[39m\u001b[39m.\u001b[39msort_keys,\n\u001b[1;32m    <a href='file:///Applications/Xcode.app/Contents/Developer/Library/Frameworks/Python3.framework/Versions/3.8/lib/python3.8/json/encoder.py?line=255'>256</a>\u001b[0m         \u001b[39mself\u001b[39m\u001b[39m.\u001b[39mskipkeys, _one_shot)\n\u001b[0;32m--> <a href='file:///Applications/Xcode.app/Contents/Developer/Library/Frameworks/Python3.framework/Versions/3.8/lib/python3.8/json/encoder.py?line=256'>257</a>\u001b[0m \u001b[39mreturn\u001b[39;00m _iterencode(o, \u001b[39m0\u001b[39;49m)\n",
      "File \u001b[0;32m/Applications/Xcode.app/Contents/Developer/Library/Frameworks/Python3.framework/Versions/3.8/lib/python3.8/json/encoder.py:179\u001b[0m, in \u001b[0;36mJSONEncoder.default\u001b[0;34m(self, o)\u001b[0m\n\u001b[1;32m    <a href='file:///Applications/Xcode.app/Contents/Developer/Library/Frameworks/Python3.framework/Versions/3.8/lib/python3.8/json/encoder.py?line=159'>160</a>\u001b[0m \u001b[39mdef\u001b[39;00m \u001b[39mdefault\u001b[39m(\u001b[39mself\u001b[39m, o):\n\u001b[1;32m    <a href='file:///Applications/Xcode.app/Contents/Developer/Library/Frameworks/Python3.framework/Versions/3.8/lib/python3.8/json/encoder.py?line=160'>161</a>\u001b[0m     \u001b[39m\"\"\"Implement this method in a subclass such that it returns\u001b[39;00m\n\u001b[1;32m    <a href='file:///Applications/Xcode.app/Contents/Developer/Library/Frameworks/Python3.framework/Versions/3.8/lib/python3.8/json/encoder.py?line=161'>162</a>\u001b[0m \u001b[39m    a serializable object for ``o``, or calls the base implementation\u001b[39;00m\n\u001b[1;32m    <a href='file:///Applications/Xcode.app/Contents/Developer/Library/Frameworks/Python3.framework/Versions/3.8/lib/python3.8/json/encoder.py?line=162'>163</a>\u001b[0m \u001b[39m    (to raise a ``TypeError``).\u001b[39;00m\n\u001b[0;32m   (...)\u001b[0m\n\u001b[1;32m    <a href='file:///Applications/Xcode.app/Contents/Developer/Library/Frameworks/Python3.framework/Versions/3.8/lib/python3.8/json/encoder.py?line=176'>177</a>\u001b[0m \n\u001b[1;32m    <a href='file:///Applications/Xcode.app/Contents/Developer/Library/Frameworks/Python3.framework/Versions/3.8/lib/python3.8/json/encoder.py?line=177'>178</a>\u001b[0m \u001b[39m    \"\"\"\u001b[39;00m\n\u001b[0;32m--> <a href='file:///Applications/Xcode.app/Contents/Developer/Library/Frameworks/Python3.framework/Versions/3.8/lib/python3.8/json/encoder.py?line=178'>179</a>\u001b[0m     \u001b[39mraise\u001b[39;00m \u001b[39mTypeError\u001b[39;00m(\u001b[39mf\u001b[39m\u001b[39m'\u001b[39m\u001b[39mObject of type \u001b[39m\u001b[39m{\u001b[39;00mo\u001b[39m.\u001b[39m\u001b[39m__class__\u001b[39m\u001b[39m.\u001b[39m\u001b[39m__name__\u001b[39m\u001b[39m}\u001b[39;00m\u001b[39m \u001b[39m\u001b[39m'\u001b[39m\n\u001b[1;32m    <a href='file:///Applications/Xcode.app/Contents/Developer/Library/Frameworks/Python3.framework/Versions/3.8/lib/python3.8/json/encoder.py?line=179'>180</a>\u001b[0m                     \u001b[39mf\u001b[39m\u001b[39m'\u001b[39m\u001b[39mis not JSON serializable\u001b[39m\u001b[39m'\u001b[39m)\n",
      "\u001b[0;31mTypeError\u001b[0m: Object of type ExtractFeature is not JSON serializable"
     ]
    }
   ],
   "source": [
    "from summarizer.infrastructure.redis_listener import RedisListener\n",
    "from redis import Redis\n",
    "import json\n",
    "redis = Redis(host=\"127.0.0.1\", port=\"6379\")\n",
    "from summarizer.service.command import ExtractFeature\n",
    "string = json.dumps(ExtractFeature(type=\"ExtractFeature\", key='2022/04/10 00:15:44').dict())\n",
    "print(string,type(string))\n",
    "redis.lpush('summarizer',string)\n",
    "# x = redis.rpop('summarizer')\n",
    "# x = json.loads(x)\n",
    "# print(type(x), x)\n"
   ]
  },
  {
   "cell_type": "code",
   "execution_count": null,
   "metadata": {},
   "outputs": [],
   "source": [
    "from summarizer.interface.container import Container"
   ]
  },
  {
   "cell_type": "code",
   "execution_count": null,
   "metadata": {},
   "outputs": [],
   "source": []
  }
 ],
 "metadata": {
  "interpreter": {
   "hash": "1c7b3af323e20c9f2404d64b5eae0efe03d6f5ac814e82e2dd2db853d4f06442"
  },
  "kernelspec": {
   "display_name": "Python 3.8.13 ('worker')",
   "language": "python",
   "name": "python3"
  },
  "language_info": {
   "codemirror_mode": {
    "name": "ipython",
    "version": 3
   },
   "file_extension": ".py",
   "mimetype": "text/x-python",
   "name": "python",
   "nbconvert_exporter": "python",
   "pygments_lexer": "ipython3",
   "version": "3.8.13"
  },
  "orig_nbformat": 4
 },
 "nbformat": 4,
 "nbformat_minor": 2
}
