{
 "cells": [
  {
   "cell_type": "code",
   "execution_count": null,
   "metadata": {},
   "outputs": [],
   "source": [
    "\n",
    "import tensorflow as tf\n",
    "gpu = tf.config.experimental.list_physical_devices('GPU') # 내 컴에 장착된 GPU를 list로 반환\n",
    "try:\n",
    "    tf.config.experimental.set_memory_growth(gpu[0], True) # GPU Memory Growth를 Enable\n",
    "except RuntimeError as e:\n",
    "    print(e) # Error 발생하면 Error 내용 출력"
   ]
  },
  {
   "cell_type": "code",
   "execution_count": null,
   "metadata": {},
   "outputs": [],
   "source": [
    "from summarizer.domain.model.video import Video\n",
    "import matplotlib"
   ]
  },
  {
   "cell_type": "markdown",
   "metadata": {},
   "source": []
  },
  {
   "cell_type": "code",
   "execution_count": null,
   "metadata": {},
   "outputs": [],
   "source": []
  },
  {
   "cell_type": "code",
   "execution_count": null,
   "metadata": {},
   "outputs": [],
   "source": [
    "\n",
    "features = image.extract()\n",
    "print(features)\n",
    "from summarizer.domain.model.feature import VideoFeature\n",
    "videofeature = VideoFeature(key=\"123\",features=features)"
   ]
  },
  {
   "cell_type": "code",
   "execution_count": null,
   "metadata": {},
   "outputs": [],
   "source": [
    "video = Video(key=\"123\",url=\"tests/2.mp4\", algorithm=\"yolov3\")\n",
    "list_of_features = video.extract_feature()\n",
    "video.shorten(video_feature=list_of_features, must_include_feature=[\"person\"])"
   ]
  },
  {
   "cell_type": "code",
   "execution_count": null,
   "metadata": {},
   "outputs": [],
   "source": [
    "import boto3\n",
    "\n",
    "\n",
    "def create_movie_table(dynamodb=None):\n",
    "    if not dynamodb:\n",
    "        dynamodb = boto3.resource('dynamodb', endpoint_url=\"http://localhost:8000\")\n",
    "\n",
    "    table = dynamodb.create_table(\n",
    "        TableName='Video',\n",
    "        KeySchema=[\n",
    "            {\n",
    "                'AttributeName': 'key',\n",
    "                'KeyType': 'HASH'  # Partition key\n",
    "            },\n",
    "        ],\n",
    "        AttributeDefinitions=[\n",
    "            {\n",
    "                'AttributeName': 'key',\n",
    "                'AttributeType': 'S'\n",
    "            },\n",
    "        ],\n",
    "        ProvisionedThroughput={\n",
    "            'ReadCapacityUnits': 10,\n",
    "            'WriteCapacityUnits': 10\n",
    "        }\n",
    "    )\n",
    "    return table\n",
    "\n",
    "\n",
    "if __name__ == '__main__':\n",
    "    movie_table = create_movie_table()\n",
    "    print(\"Table status:\", movie_table.table_status)"
   ]
  },
  {
   "cell_type": "code",
   "execution_count": 11,
   "metadata": {},
   "outputs": [],
   "source": [
    "import boto3\n",
    "from summarizer.infrastructure.repository import VideoDataRepository\n",
    "dynamodb = boto3.resource('dynamodb', endpoint_url=\"http://localhost:8000\")\n"
   ]
  },
  {
   "cell_type": "code",
   "execution_count": null,
   "metadata": {},
   "outputs": [],
   "source": []
  },
  {
   "cell_type": "code",
   "execution_count": null,
   "metadata": {},
   "outputs": [],
   "source": [
    "videeoTable.scan()"
   ]
  },
  {
   "cell_type": "code",
   "execution_count": null,
   "metadata": {},
   "outputs": [],
   "source": [
    "videeoTable.get_item(Key={\"key\":'2022/04/10 00:15:44'[Item]])"
   ]
  },
  {
   "cell_type": "code",
   "execution_count": null,
   "metadata": {},
   "outputs": [],
   "source": [
    "repo.put(data=video)"
   ]
  },
  {
   "cell_type": "code",
   "execution_count": null,
   "metadata": {},
   "outputs": [],
   "source": [
    "print(x)"
   ]
  },
  {
   "cell_type": "code",
   "execution_count": null,
   "metadata": {},
   "outputs": [],
   "source": [
    "x = movie_table.get_item(Key={\"key\":'abc'})"
   ]
  },
  {
   "cell_type": "code",
   "execution_count": null,
   "metadata": {},
   "outputs": [],
   "source": [
    "print(VideoFeature(**x['Item']))"
   ]
  },
  {
   "cell_type": "code",
   "execution_count": 6,
   "metadata": {},
   "outputs": [
    {
     "name": "stdout",
     "output_type": "stream",
     "text": [
      "{\"type\": \"ExtractFeature\", \"key\": \"492774aa-d621-454a-8ada-f4e86d6f739d.mp4\"} <class 'str'>\n"
     ]
    },
    {
     "data": {
      "text/plain": [
       "1"
      ]
     },
     "execution_count": 6,
     "metadata": {},
     "output_type": "execute_result"
    }
   ],
   "source": [
    "from summarizer.infrastructure.redis_listener import RedisListener\n",
    "from redis import Redis\n",
    "import json\n",
    "redis = Redis(host=\"127.0.0.1\", port=\"6379\")\n",
    "from summarizer.service.command import ExtractFeature\n",
    "string = json.dumps(ExtractFeature(type=\"ExtractFeature\", key='492774aa-d621-454a-8ada-f4e86d6f739d.mp4').dict())\n",
    "print(string,type(string))\n",
    "redis.lpush('summarizer',string)\n",
    "# x = redis.rpop('summarizer')\n",
    "# x = json.loads(x)\n",
    "# print(type(x), x)\n"
   ]
  },
  {
   "cell_type": "code",
   "execution_count": 12,
   "metadata": {},
   "outputs": [],
   "source": [
    "featureTable = dynamodb.Table('Feature')"
   ]
  },
  {
   "cell_type": "code",
   "execution_count": 14,
   "metadata": {},
   "outputs": [
    {
     "name": "stdout",
     "output_type": "stream",
     "text": [
      "key='b8ff3a74-d7b2-4c6f-bc36-968688168c17.mp4' features=[FrameFeature(name='person', current_frame=25, box_points=[277, 75, 541, 380]), FrameFeature(name='backpack', current_frame=25, box_points=[326, 204, 494, 381]), FrameFeature(name='handbag', current_frame=25, box_points=[298, 180, 367, 365]), FrameFeature(name='person', current_frame=50, box_points=[219, 74, 511, 380]), FrameFeature(name='backpack', current_frame=50, box_points=[265, 198, 453, 341]), FrameFeature(name='person', current_frame=75, box_points=[182, 66, 424, 377]), FrameFeature(name='backpack', current_frame=75, box_points=[233, 195, 389, 329]), FrameFeature(name='car', current_frame=75, box_points=[1, 217, 66, 314]), FrameFeature(name='person', current_frame=150, box_points=[59, 25, 394, 358]), FrameFeature(name='backpack', current_frame=150, box_points=[0, 126, 227, 360]), FrameFeature(name='person', current_frame=175, box_points=[2, 27, 330, 358]), FrameFeature(name='potted plant', current_frame=175, box_points=[266, 51, 580, 352]), FrameFeature(name='vase', current_frame=175, box_points=[399, 194, 553, 357]), FrameFeature(name='person', current_frame=200, box_points=[7, 16, 215, 350]), FrameFeature(name='potted plant', current_frame=200, box_points=[271, 10, 481, 400]), FrameFeature(name='vase', current_frame=200, box_points=[290, 215, 468, 383]), FrameFeature(name='person', current_frame=225, box_points=[50, 64, 206, 331]), FrameFeature(name='bicycle', current_frame=225, box_points=[46, 146, 403, 328]), FrameFeature(name='person', current_frame=225, box_points=[511, 51, 588, 278]), FrameFeature(name='person', current_frame=225, box_points=[323, 82, 376, 131]), FrameFeature(name='person', current_frame=250, box_points=[59, 45, 210, 329]), FrameFeature(name='car', current_frame=250, box_points=[67, 107, 120, 194]), FrameFeature(name='person', current_frame=250, box_points=[488, 109, 562, 273]), FrameFeature(name='car', current_frame=250, box_points=[195, 118, 255, 160]), FrameFeature(name='person', current_frame=275, box_points=[40, 46, 207, 334]), FrameFeature(name='car', current_frame=275, box_points=[12, 107, 117, 214]), FrameFeature(name='person', current_frame=275, box_points=[503, 150, 555, 265]), FrameFeature(name='person', current_frame=275, box_points=[285, 87, 336, 145]), FrameFeature(name='person', current_frame=300, box_points=[156, 109, 379, 377]), FrameFeature(name='person', current_frame=300, box_points=[326, 156, 495, 375]), FrameFeature(name='person', current_frame=325, box_points=[115, 59, 336, 363]), FrameFeature(name='person', current_frame=325, box_points=[274, 135, 380, 319]), FrameFeature(name='person', current_frame=350, box_points=[133, 50, 312, 370]), FrameFeature(name='backpack', current_frame=350, box_points=[1, 117, 237, 366]), FrameFeature(name='backpack', current_frame=350, box_points=[102, 151, 222, 345]), FrameFeature(name='umbrella', current_frame=375, box_points=[345, 38, 473, 182]), FrameFeature(name='person', current_frame=375, box_points=[190, 37, 380, 370]), FrameFeature(name='backpack', current_frame=375, box_points=[178, 110, 362, 372]), FrameFeature(name='backpack', current_frame=375, box_points=[189, 141, 277, 359]), FrameFeature(name='person', current_frame=400, box_points=[287, 91, 430, 199]), FrameFeature(name='dog', current_frame=400, box_points=[45, 188, 271, 348]), FrameFeature(name='chair', current_frame=400, box_points=[313, 227, 402, 376]), FrameFeature(name='chair', current_frame=400, box_points=[402, 243, 496, 378]), FrameFeature(name='chair', current_frame=400, box_points=[485, 270, 577, 353]), FrameFeature(name='cup', current_frame=400, box_points=[324, 141, 343, 165]), FrameFeature(name='person', current_frame=425, box_points=[311, 71, 446, 359]), FrameFeature(name='dog', current_frame=425, box_points=[167, 177, 309, 350]), FrameFeature(name='chair', current_frame=425, box_points=[336, 229, 428, 376]), FrameFeature(name='chair', current_frame=425, box_points=[427, 245, 523, 378]), FrameFeature(name='chair', current_frame=425, box_points=[511, 276, 600, 352]), FrameFeature(name='cup', current_frame=425, box_points=[344, 143, 365, 165]), FrameFeature(name='cup', current_frame=425, box_points=[401, 150, 423, 167]), FrameFeature(name='person', current_frame=450, box_points=[307, 74, 457, 356]), FrameFeature(name='dog', current_frame=450, box_points=[180, 169, 302, 342]), FrameFeature(name='chair', current_frame=450, box_points=[343, 196, 423, 368]), FrameFeature(name='chair', current_frame=450, box_points=[437, 247, 530, 380]), FrameFeature(name='chair', current_frame=450, box_points=[533, 274, 612, 350]), FrameFeature(name='cup', current_frame=450, box_points=[355, 145, 379, 163]), FrameFeature(name='cup', current_frame=450, box_points=[413, 150, 436, 168]), FrameFeature(name='bowl', current_frame=450, box_points=[513, 152, 548, 172]), FrameFeature(name='person', current_frame=475, box_points=[0, 10, 277, 278]), FrameFeature(name='dining table', current_frame=475, box_points=[37, 21, 613, 385]), FrameFeature(name='bowl', current_frame=475, box_points=[513, 183, 636, 375]), FrameFeature(name='person', current_frame=500, box_points=[254, 48, 448, 373]), FrameFeature(name='dog', current_frame=500, box_points=[90, 166, 257, 372]), FrameFeature(name='chair', current_frame=500, box_points=[320, 200, 427, 369]), FrameFeature(name='chair', current_frame=500, box_points=[414, 292, 534, 379]), FrameFeature(name='chair', current_frame=500, box_points=[532, 302, 612, 387]), FrameFeature(name='bottle', current_frame=500, box_points=[499, 94, 519, 144]), FrameFeature(name='cup', current_frame=500, box_points=[324, 134, 347, 161]), FrameFeature(name='person', current_frame=525, box_points=[0, 25, 132, 353]), FrameFeature(name='person', current_frame=525, box_points=[186, 38, 337, 371]), FrameFeature(name='bottle', current_frame=525, box_points=[347, 193, 370, 244]), FrameFeature(name='bottle', current_frame=525, box_points=[334, 219, 352, 263]), FrameFeature(name='person', current_frame=550, box_points=[0, 26, 137, 359]), FrameFeature(name='person', current_frame=550, box_points=[199, 48, 346, 377]), FrameFeature(name='bottle', current_frame=550, box_points=[353, 199, 375, 258]), FrameFeature(name='person', current_frame=575, box_points=[349, 168, 511, 361]), FrameFeature(name='person', current_frame=575, box_points=[0, 0, 106, 342]), FrameFeature(name='person', current_frame=575, box_points=[349, 99, 415, 278]), FrameFeature(name='person', current_frame=575, box_points=[398, 113, 479, 268]), FrameFeature(name='person', current_frame=600, box_points=[2, 9, 128, 367]), FrameFeature(name='person', current_frame=600, box_points=[379, 204, 547, 396]), FrameFeature(name='person', current_frame=600, box_points=[370, 164, 442, 336]), FrameFeature(name='person', current_frame=625, box_points=[93, 3, 250, 369]), FrameFeature(name='person', current_frame=625, box_points=[400, 294, 556, 393]), FrameFeature(name='backpack', current_frame=625, box_points=[64, 49, 154, 243]), FrameFeature(name='person', current_frame=650, box_points=[231, 39, 637, 208]), FrameFeature(name='person', current_frame=675, box_points=[36, 13, 477, 388]), FrameFeature(name='backpack', current_frame=675, box_points=[105, 204, 425, 357]), FrameFeature(name='person', current_frame=700, box_points=[60, 21, 468, 375]), FrameFeature(name='person', current_frame=725, box_points=[0, 87, 268, 315]), FrameFeature(name='tie', current_frame=725, box_points=[110, 31, 403, 359]), FrameFeature(name='person', current_frame=725, box_points=[109, 29, 610, 377]), FrameFeature(name='person', current_frame=750, box_points=[262, 27, 595, 385]), FrameFeature(name='person', current_frame=775, box_points=[145, 26, 473, 381]), FrameFeature(name='person', current_frame=800, box_points=[93, 1, 355, 373]), FrameFeature(name='person', current_frame=800, box_points=[170, 57, 480, 377]), FrameFeature(name='person', current_frame=825, box_points=[172, 57, 402, 321]), FrameFeature(name='person', current_frame=850, box_points=[118, 61, 288, 364]), FrameFeature(name='backpack', current_frame=850, box_points=[160, 135, 244, 201]), FrameFeature(name='banana', current_frame=850, box_points=[236, 229, 275, 269]), FrameFeature(name='person', current_frame=875, box_points=[143, 76, 387, 384]), FrameFeature(name='backpack', current_frame=875, box_points=[113, 139, 243, 310]), FrameFeature(name='cell phone', current_frame=875, box_points=[366, 213, 388, 225]), FrameFeature(name='backpack', current_frame=900, box_points=[115, 130, 261, 292]), FrameFeature(name='person', current_frame=900, box_points=[140, 92, 384, 383]), FrameFeature(name='cell phone', current_frame=900, box_points=[366, 203, 384, 217]), FrameFeature(name='person', current_frame=975, box_points=[273, 132, 375, 366]), FrameFeature(name='person', current_frame=1025, box_points=[237, 56, 422, 365]), FrameFeature(name='person', current_frame=1050, box_points=[235, 75, 438, 372]), FrameFeature(name='handbag', current_frame=1050, box_points=[257, 204, 415, 377]), FrameFeature(name='person', current_frame=1075, box_points=[175, 71, 454, 374]), FrameFeature(name='handbag', current_frame=1075, box_points=[231, 204, 410, 377]), FrameFeature(name='bowl', current_frame=1075, box_points=[59, 300, 122, 329]), FrameFeature(name='person', current_frame=1100, box_points=[87, 59, 363, 371]), FrameFeature(name='handbag', current_frame=1100, box_points=[146, 207, 309, 362]), FrameFeature(name='person', current_frame=1125, box_points=[19, 16, 253, 374]), FrameFeature(name='potted plant', current_frame=1125, box_points=[294, 110, 474, 384]), FrameFeature(name='person', current_frame=1150, box_points=[192, 75, 414, 390]), FrameFeature(name='person', current_frame=1150, box_points=[109, 135, 163, 259]), FrameFeature(name='chair', current_frame=1150, box_points=[402, 215, 502, 262]), FrameFeature(name='person', current_frame=1175, box_points=[165, 71, 396, 385]), FrameFeature(name='chair', current_frame=1175, box_points=[393, 218, 500, 265]), FrameFeature(name='person', current_frame=1200, box_points=[153, 52, 383, 379]), FrameFeature(name='chair', current_frame=1200, box_points=[382, 207, 485, 254]), FrameFeature(name='person', current_frame=1225, box_points=[145, 59, 375, 377]), FrameFeature(name='chair', current_frame=1225, box_points=[373, 209, 477, 254]), FrameFeature(name='person', current_frame=1250, box_points=[159, 54, 384, 381]), FrameFeature(name='chair', current_frame=1250, box_points=[381, 213, 482, 260]), FrameFeature(name='person', current_frame=1275, box_points=[124, 17, 477, 378]), FrameFeature(name='car', current_frame=1275, box_points=[563, 191, 638, 252]), FrameFeature(name='person', current_frame=1300, box_points=[113, 30, 347, 374]), FrameFeature(name='handbag', current_frame=1300, box_points=[83, 123, 235, 375]), FrameFeature(name='person', current_frame=1300, box_points=[272, 94, 391, 361]), FrameFeature(name='chair', current_frame=1300, box_points=[409, 229, 516, 282]), FrameFeature(name='person', current_frame=1325, box_points=[209, 52, 443, 388]), FrameFeature(name='person', current_frame=1325, box_points=[474, 34, 642, 423]), FrameFeature(name='dog', current_frame=1325, box_points=[56, 213, 207, 363]), FrameFeature(name='bicycle', current_frame=1325, box_points=[0, 146, 32, 239]), FrameFeature(name='bottle', current_frame=1325, box_points=[491, 117, 513, 176]), FrameFeature(name='cup', current_frame=1325, box_points=[383, 173, 421, 203]), FrameFeature(name='person', current_frame=1350, box_points=[171, 31, 633, 390]), FrameFeature(name='person', current_frame=1375, box_points=[82, 32, 561, 376]), FrameFeature(name='person', current_frame=1400, box_points=[208, 36, 604, 383]), FrameFeature(name='person', current_frame=1425, box_points=[129, 28, 391, 377]), FrameFeature(name='person', current_frame=1425, box_points=[305, 98, 539, 385]), FrameFeature(name='cup', current_frame=1425, box_points=[324, 235, 380, 315]), FrameFeature(name='person', current_frame=1450, box_points=[0, 64, 260, 335]), FrameFeature(name='person', current_frame=1450, box_points=[33, 6, 517, 409]), FrameFeature(name='person', current_frame=1475, box_points=[176, 61, 368, 322]), FrameFeature(name='person', current_frame=1500, box_points=[18, 12, 425, 382]), FrameFeature(name='handbag', current_frame=1500, box_points=[143, 210, 301, 367]), FrameFeature(name='person', current_frame=1525, box_points=[21, 9, 422, 382]), FrameFeature(name='person', current_frame=1550, box_points=[41, 20, 410, 372]), FrameFeature(name='person', current_frame=1575, box_points=[0, 30, 362, 365]), FrameFeature(name='person', current_frame=1575, box_points=[256, 27, 596, 386]), FrameFeature(name='remote', current_frame=1575, box_points=[227, 317, 349, 368]), FrameFeature(name='person', current_frame=1600, box_points=[0, 23, 355, 369]), FrameFeature(name='person', current_frame=1600, box_points=[261, 25, 594, 388]), FrameFeature(name='person', current_frame=1625, box_points=[72, 48, 493, 381]), FrameFeature(name='person', current_frame=1650, box_points=[0, 11, 266, 363]), FrameFeature(name='person', current_frame=1650, box_points=[258, 24, 587, 382]), FrameFeature(name='person', current_frame=1675, box_points=[0, 19, 332, 360]), FrameFeature(name='bed', current_frame=1675, box_points=[0, 19, 332, 360]), FrameFeature(name='person', current_frame=1675, box_points=[170, 27, 571, 381]), FrameFeature(name='cup', current_frame=1675, box_points=[174, 258, 301, 328]), FrameFeature(name='person', current_frame=1700, box_points=[0, 16, 263, 360]), FrameFeature(name='person', current_frame=1700, box_points=[169, 32, 583, 376]), FrameFeature(name='cup', current_frame=1700, box_points=[188, 220, 278, 287]), FrameFeature(name='person', current_frame=1725, box_points=[118, 22, 341, 370]), FrameFeature(name='person', current_frame=1725, box_points=[374, 212, 555, 398]), FrameFeature(name='person', current_frame=1725, box_points=[315, 203, 360, 308]), FrameFeature(name='person', current_frame=1725, box_points=[548, 235, 618, 299]), FrameFeature(name='person', current_frame=1725, box_points=[331, 219, 379, 339]), FrameFeature(name='person', current_frame=1725, box_points=[0, 217, 86, 359]), FrameFeature(name='person', current_frame=1725, box_points=[597, 270, 641, 369]), FrameFeature(name='person', current_frame=1750, box_points=[112, 15, 327, 369]), FrameFeature(name='person', current_frame=1750, box_points=[380, 221, 551, 394]), FrameFeature(name='person', current_frame=1750, box_points=[311, 213, 359, 337]), FrameFeature(name='person', current_frame=1750, box_points=[378, 239, 431, 314]), FrameFeature(name='person', current_frame=1750, box_points=[1, 219, 84, 354]), FrameFeature(name='person', current_frame=1750, box_points=[329, 242, 384, 364]), FrameFeature(name='person', current_frame=1750, box_points=[356, 235, 448, 380]), FrameFeature(name='person', current_frame=1750, box_points=[532, 245, 619, 380]), FrameFeature(name='person', current_frame=1750, box_points=[577, 281, 643, 378]), FrameFeature(name='person', current_frame=1775, box_points=[108, 15, 314, 370]), FrameFeature(name='person', current_frame=1775, box_points=[389, 207, 553, 394]), FrameFeature(name='person', current_frame=1775, box_points=[356, 224, 400, 292]), FrameFeature(name='person', current_frame=1775, box_points=[11, 203, 105, 343]), FrameFeature(name='person', current_frame=1775, box_points=[313, 206, 360, 342]), FrameFeature(name='person', current_frame=1775, box_points=[329, 217, 380, 344]), FrameFeature(name='person', current_frame=1775, box_points=[270, 232, 312, 366]), FrameFeature(name='person', current_frame=1775, box_points=[356, 227, 442, 370]), FrameFeature(name='person', current_frame=1775, box_points=[525, 234, 625, 382]), FrameFeature(name='person', current_frame=1775, box_points=[601, 269, 640, 366]), FrameFeature(name='person', current_frame=1775, box_points=[497, 233, 547, 283]), FrameFeature(name='person', current_frame=1800, box_points=[196, 85, 450, 363]), FrameFeature(name='person', current_frame=1825, box_points=[202, 98, 445, 372]), FrameFeature(name='banana', current_frame=1825, box_points=[183, 230, 284, 305]), FrameFeature(name='person', current_frame=1850, box_points=[225, 100, 439, 379]), FrameFeature(name='banana', current_frame=1850, box_points=[208, 230, 295, 303]), FrameFeature(name='person', current_frame=1875, box_points=[231, 118, 424, 379]), FrameFeature(name='banana', current_frame=1875, box_points=[207, 263, 313, 350]), FrameFeature(name='person', current_frame=1900, box_points=[222, 132, 600, 393]), FrameFeature(name='dining table', current_frame=1900, box_points=[0, 322, 415, 370]), FrameFeature(name='bottle', current_frame=1900, box_points=[138, 171, 185, 333]), FrameFeature(name='bowl', current_frame=1900, box_points=[221, 316, 341, 351]), FrameFeature(name='spoon', current_frame=1900, box_points=[283, 306, 343, 326]), FrameFeature(name='person', current_frame=1925, box_points=[208, 24, 635, 392]), FrameFeature(name='dining table', current_frame=1925, box_points=[15, 319, 424, 372]), FrameFeature(name='bottle', current_frame=1925, box_points=[127, 178, 175, 329]), FrameFeature(name='person', current_frame=1950, box_points=[139, 87, 371, 373]), FrameFeature(name='person', current_frame=1975, box_points=[161, 84, 397, 374]), FrameFeature(name='person', current_frame=2000, box_points=[108, 21, 270, 375]), FrameFeature(name='person', current_frame=2025, box_points=[112, 30, 300, 375]), FrameFeature(name='cell phone', current_frame=2025, box_points=[229, 172, 271, 202]), FrameFeature(name='person', current_frame=2050, box_points=[109, 28, 269, 371]), FrameFeature(name='potted plant', current_frame=2075, box_points=[93, 190, 127, 287]), FrameFeature(name='bird', current_frame=2075, box_points=[184, 132, 214, 167]), FrameFeature(name='bird', current_frame=2075, box_points=[207, 129, 247, 168]), FrameFeature(name='potted plant', current_frame=2100, box_points=[93, 190, 127, 286]), FrameFeature(name='car', current_frame=2125, box_points=[188, 205, 538, 374]), FrameFeature(name='person', current_frame=2125, box_points=[141, 39, 244, 361]), FrameFeature(name='backpack', current_frame=2150, box_points=[279, 141, 432, 355]), FrameFeature(name='person', current_frame=2150, box_points=[272, 105, 435, 378]), FrameFeature(name='backpack', current_frame=2150, box_points=[305, 171, 405, 248]), FrameFeature(name='car', current_frame=2150, box_points=[499, 197, 614, 270]), FrameFeature(name='person', current_frame=2175, box_points=[188, 68, 362, 371]), FrameFeature(name='backpack', current_frame=2175, box_points=[221, 154, 330, 236]), FrameFeature(name='car', current_frame=2175, box_points=[499, 185, 596, 247]), FrameFeature(name='person', current_frame=2175, box_points=[486, 159, 519, 212]), FrameFeature(name='person', current_frame=2200, box_points=[193, 56, 380, 370]), FrameFeature(name='backpack', current_frame=2200, box_points=[213, 103, 394, 369]), FrameFeature(name='backpack', current_frame=2200, box_points=[233, 119, 350, 282]), FrameFeature(name='person', current_frame=2200, box_points=[611, 162, 641, 315]), FrameFeature(name='person', current_frame=2225, box_points=[114, 57, 326, 372]), FrameFeature(name='person', current_frame=2225, box_points=[296, 134, 475, 336]), FrameFeature(name='person', current_frame=2225, box_points=[27, 126, 129, 367]), FrameFeature(name='cup', current_frame=2225, box_points=[321, 246, 427, 321]), FrameFeature(name='person', current_frame=2250, box_points=[112, 45, 311, 365]), FrameFeature(name='person', current_frame=2250, box_points=[305, 93, 461, 294]), FrameFeature(name='car', current_frame=2250, box_points=[0, 127, 126, 314]), FrameFeature(name='bowl', current_frame=2250, box_points=[304, 219, 417, 295]), FrameFeature(name='person', current_frame=2275, box_points=[113, 64, 307, 327]), FrameFeature(name='person', current_frame=2275, box_points=[297, 118, 478, 285]), FrameFeature(name='person', current_frame=2275, box_points=[4, 68, 151, 367]), FrameFeature(name='person', current_frame=2275, box_points=[303, 70, 374, 232]), FrameFeature(name='person', current_frame=2275, box_points=[459, 89, 549, 380]), FrameFeature(name='person', current_frame=2300, box_points=[161, 36, 478, 375]), FrameFeature(name='car', current_frame=2300, box_points=[548, 333, 639, 381]), FrameFeature(name='person', current_frame=2325, box_points=[146, 46, 357, 343]), FrameFeature(name='person', current_frame=2325, box_points=[334, 133, 496, 323]), FrameFeature(name='person', current_frame=2325, box_points=[18, 102, 115, 374]), FrameFeature(name='cake', current_frame=2325, box_points=[362, 309, 498, 357]), FrameFeature(name='person', current_frame=2350, box_points=[122, 43, 332, 334]), FrameFeature(name='person', current_frame=2350, box_points=[390, 176, 488, 307]), FrameFeature(name='car', current_frame=2350, box_points=[1, 156, 110, 338]), FrameFeature(name='person', current_frame=2375, box_points=[170, 31, 380, 273]), FrameFeature(name='car', current_frame=2375, box_points=[0, 142, 146, 322]), FrameFeature(name='person', current_frame=2375, box_points=[446, 148, 550, 322]), FrameFeature(name='person', current_frame=2400, box_points=[317, 40, 612, 366]), FrameFeature(name='dog', current_frame=2400, box_points=[43, 167, 409, 345]), FrameFeature(name='person', current_frame=2425, box_points=[395, 43, 616, 390]), FrameFeature(name='person', current_frame=2450, box_points=[361, 94, 562, 396]), FrameFeature(name='person', current_frame=2475, box_points=[327, 52, 490, 396]), FrameFeature(name='dog', current_frame=2500, box_points=[17, 47, 433, 357]), FrameFeature(name='backpack', current_frame=2525, box_points=[96, 163, 138, 235]), FrameFeature(name='person', current_frame=2525, box_points=[98, 128, 177, 331]), FrameFeature(name='truck', current_frame=2525, box_points=[222, 197, 300, 275]), FrameFeature(name='bicycle', current_frame=2525, box_points=[63, 205, 105, 277]), FrameFeature(name='car', current_frame=2525, box_points=[225, 206, 301, 277]), FrameFeature(name='car', current_frame=2525, box_points=[399, 224, 465, 281]), FrameFeature(name='car', current_frame=2525, box_points=[463, 221, 504, 292]), FrameFeature(name='car', current_frame=2525, box_points=[481, 217, 609, 311]), FrameFeature(name='person', current_frame=2525, box_points=[65, 186, 90, 236]), FrameFeature(name='backpack', current_frame=2525, box_points=[102, 174, 125, 243]), FrameFeature(name='person', current_frame=2525, box_points=[228, 203, 253, 272]), FrameFeature(name='truck', current_frame=2525, box_points=[406, 216, 462, 276]), FrameFeature(name='person', current_frame=2550, box_points=[212, 188, 248, 277]), FrameFeature(name='person', current_frame=2550, box_points=[295, 135, 354, 330]), FrameFeature(name='car', current_frame=2550, box_points=[393, 227, 465, 278]), FrameFeature(name='car', current_frame=2550, box_points=[463, 222, 506, 292]), FrameFeature(name='car', current_frame=2550, box_points=[479, 218, 610, 311]), FrameFeature(name='dog', current_frame=2550, box_points=[25, 248, 136, 330]), FrameFeature(name='person', current_frame=2550, box_points=[31, 177, 49, 198]), FrameFeature(name='person', current_frame=2550, box_points=[67, 188, 89, 236]), FrameFeature(name='person', current_frame=2550, box_points=[142, 206, 163, 265]), FrameFeature(name='person', current_frame=2550, box_points=[200, 213, 222, 271]), FrameFeature(name='car', current_frame=2550, box_points=[236, 217, 297, 269]), FrameFeature(name='car', current_frame=2550, box_points=[379, 230, 418, 261]), FrameFeature(name='truck', current_frame=2550, box_points=[407, 216, 462, 275]), FrameFeature(name='car', current_frame=2575, box_points=[481, 238, 620, 336]), FrameFeature(name='person', current_frame=2575, box_points=[417, 141, 501, 334]), FrameFeature(name='car', current_frame=2575, box_points=[308, 223, 403, 268]), FrameFeature(name='dog', current_frame=2575, box_points=[195, 251, 318, 330]), FrameFeature(name='person', current_frame=2575, box_points=[31, 177, 50, 198]), FrameFeature(name='person', current_frame=2575, box_points=[68, 187, 93, 232]), FrameFeature(name='person', current_frame=2575, box_points=[140, 209, 162, 263]), FrameFeature(name='bicycle', current_frame=2575, box_points=[65, 226, 115, 277]), FrameFeature(name='dog', current_frame=2600, box_points=[298, 249, 433, 360]), FrameFeature(name='person', current_frame=2600, box_points=[462, 143, 531, 341]), FrameFeature(name='car', current_frame=2600, box_points=[238, 204, 297, 278]), FrameFeature(name='truck', current_frame=2600, box_points=[228, 205, 299, 277]), FrameFeature(name='car', current_frame=2600, box_points=[413, 223, 464, 280]), FrameFeature(name='car', current_frame=2600, box_points=[512, 218, 610, 310]), FrameFeature(name='person', current_frame=2600, box_points=[141, 205, 163, 266]), FrameFeature(name='person', current_frame=2600, box_points=[171, 209, 191, 267]), FrameFeature(name='person', current_frame=2600, box_points=[190, 202, 216, 271]), FrameFeature(name='person', current_frame=2600, box_points=[215, 208, 239, 272]), FrameFeature(name='truck', current_frame=2600, box_points=[413, 216, 462, 273]), FrameFeature(name='person', current_frame=2625, box_points=[35, 17, 421, 370]), FrameFeature(name='person', current_frame=2650, box_points=[62, 45, 443, 370]), FrameFeature(name='backpack', current_frame=2650, box_points=[139, 251, 383, 371]), FrameFeature(name='person', current_frame=2675, box_points=[248, 70, 559, 388]), FrameFeature(name='person', current_frame=2700, box_points=[0, 13, 286, 354]), FrameFeature(name='person', current_frame=2725, box_points=[0, 10, 133, 362]), FrameFeature(name='person', current_frame=2750, box_points=[196, 42, 540, 391]), FrameFeature(name='person', current_frame=2775, box_points=[123, 54, 413, 376]), FrameFeature(name='person', current_frame=2800, box_points=[165, 69, 464, 371]), FrameFeature(name='person', current_frame=2825, box_points=[249, 92, 370, 388]), FrameFeature(name='person', current_frame=2825, box_points=[136, 91, 198, 263]), FrameFeature(name='person', current_frame=2825, box_points=[164, 107, 204, 250]), FrameFeature(name='backpack', current_frame=2825, box_points=[268, 141, 344, 204]), FrameFeature(name='person', current_frame=2825, box_points=[45, 137, 84, 259]), FrameFeature(name='motorcycle', current_frame=2825, box_points=[47, 155, 87, 279]), FrameFeature(name='bicycle', current_frame=2825, box_points=[51, 180, 89, 300]), FrameFeature(name='person', current_frame=2850, box_points=[254, 87, 387, 387]), FrameFeature(name='backpack', current_frame=2850, box_points=[282, 145, 361, 208]), FrameFeature(name='person', current_frame=2850, box_points=[131, 101, 187, 281]), FrameFeature(name='person', current_frame=2850, box_points=[166, 119, 202, 262]), FrameFeature(name='person', current_frame=2850, box_points=[43, 157, 78, 283]), FrameFeature(name='motorcycle', current_frame=2850, box_points=[46, 184, 81, 302]), FrameFeature(name='bicycle', current_frame=2850, box_points=[48, 219, 84, 307]), FrameFeature(name='person', current_frame=2875, box_points=[166, 66, 492, 372]), FrameFeature(name='person', current_frame=2900, box_points=[158, 58, 503, 374]), FrameFeature(name='person', current_frame=2925, box_points=[149, 54, 509, 374]), FrameFeature(name='person', current_frame=2950, box_points=[139, 44, 509, 372]), FrameFeature(name='person', current_frame=2975, box_points=[237, 44, 397, 387]), FrameFeature(name='backpack', current_frame=2975, box_points=[264, 121, 363, 196]), FrameFeature(name='person', current_frame=2975, box_points=[82, 55, 139, 274]), FrameFeature(name='person', current_frame=3000, box_points=[162, 41, 356, 374]), FrameFeature(name='person', current_frame=3000, box_points=[30, 60, 87, 276]), FrameFeature(name='person', current_frame=3000, box_points=[64, 61, 122, 284]), FrameFeature(name='backpack', current_frame=3000, box_points=[225, 124, 322, 218]), FrameFeature(name='backpack', current_frame=3025, box_points=[188, 114, 331, 283]), FrameFeature(name='person', current_frame=3025, box_points=[178, 48, 339, 378]), FrameFeature(name='person', current_frame=3025, box_points=[55, 57, 123, 290]), FrameFeature(name='backpack', current_frame=3025, box_points=[201, 132, 304, 216]), FrameFeature(name='person', current_frame=3050, box_points=[175, 43, 347, 378]), FrameFeature(name='person', current_frame=3050, box_points=[52, 51, 121, 293]), FrameFeature(name='person', current_frame=3050, box_points=[110, 83, 170, 276]), FrameFeature(name='backpack', current_frame=3050, box_points=[203, 130, 308, 217]), FrameFeature(name='person', current_frame=3075, box_points=[85, 22, 525, 378]), FrameFeature(name='person', current_frame=3100, box_points=[96, 18, 543, 377]), FrameFeature(name='person', current_frame=3125, box_points=[87, 19, 550, 371]), FrameFeature(name='person', current_frame=3150, box_points=[218, 34, 521, 378]), FrameFeature(name='person', current_frame=3175, box_points=[208, 36, 514, 376]), FrameFeature(name='person', current_frame=3200, box_points=[223, 46, 530, 373]), FrameFeature(name='person', current_frame=3225, box_points=[196, 65, 461, 371]), FrameFeature(name='cup', current_frame=3225, box_points=[460, 182, 490, 200]), FrameFeature(name='cup', current_frame=3225, box_points=[494, 180, 522, 203]), FrameFeature(name='bottle', current_frame=3225, box_points=[466, 279, 484, 323]), FrameFeature(name='person', current_frame=3250, box_points=[189, 60, 453, 368]), FrameFeature(name='bowl', current_frame=3250, box_points=[319, 25, 382, 47]), FrameFeature(name='bowl', current_frame=3250, box_points=[497, 116, 525, 133]), FrameFeature(name='cup', current_frame=3250, box_points=[497, 180, 526, 204]), FrameFeature(name='bottle', current_frame=3250, box_points=[476, 281, 494, 328]), FrameFeature(name='person', current_frame=3275, box_points=[0, 7, 188, 358]), FrameFeature(name='person', current_frame=3275, box_points=[189, 94, 473, 379]), FrameFeature(name='person', current_frame=3300, box_points=[2, 13, 217, 357]), FrameFeature(name='person', current_frame=3300, box_points=[199, 89, 467, 386]), FrameFeature(name='person', current_frame=3325, box_points=[277, 41, 442, 369]), FrameFeature(name='dog', current_frame=3325, box_points=[115, 162, 297, 359]), FrameFeature(name='chair', current_frame=3325, box_points=[322, 195, 431, 372]), FrameFeature(name='bottle', current_frame=3325, box_points=[510, 87, 528, 138]), FrameFeature(name='cup', current_frame=3325, box_points=[334, 129, 358, 158]), FrameFeature(name='person', current_frame=3350, box_points=[257, 48, 449, 373]), FrameFeature(name='dog', current_frame=3350, box_points=[72, 160, 272, 362]), FrameFeature(name='chair', current_frame=3350, box_points=[319, 205, 408, 362]), FrameFeature(name='chair', current_frame=3350, box_points=[411, 288, 537, 379]), FrameFeature(name='chair', current_frame=3350, box_points=[532, 300, 613, 385]), FrameFeature(name='bottle', current_frame=3350, box_points=[498, 93, 518, 143]), FrameFeature(name='cup', current_frame=3350, box_points=[324, 134, 347, 156]), FrameFeature(name='bowl', current_frame=3350, box_points=[494, 138, 535, 162]), FrameFeature(name='person', current_frame=3375, box_points=[136, 37, 607, 381]), FrameFeature(name='person', current_frame=3400, box_points=[137, 34, 607, 383]), FrameFeature(name='person', current_frame=3425, box_points=[78, 45, 473, 380]), FrameFeature(name='person', current_frame=3450, box_points=[80, 39, 539, 385]), FrameFeature(name='car', current_frame=3475, box_points=[269, 271, 280, 281]), FrameFeature(name='car', current_frame=3500, box_points=[268, 270, 281, 280]), FrameFeature(name='car', current_frame=3500, box_points=[250, 286, 257, 293]), FrameFeature(name='person', current_frame=3525, box_points=[223, 125, 501, 384]), FrameFeature(name='umbrella', current_frame=3525, box_points=[7, 44, 172, 104]), FrameFeature(name='umbrella', current_frame=3525, box_points=[149, 62, 265, 127]), FrameFeature(name='person', current_frame=3525, box_points=[5, 79, 82, 160]), FrameFeature(name='person', current_frame=3525, box_points=[66, 79, 164, 162]), FrameFeature(name='person', current_frame=3525, box_points=[169, 92, 251, 174]), FrameFeature(name='person', current_frame=3525, box_points=[377, 94, 426, 169]), FrameFeature(name='person', current_frame=3525, box_points=[415, 104, 465, 166]), FrameFeature(name='person', current_frame=3525, box_points=[457, 106, 546, 167]), FrameFeature(name='person', current_frame=3525, box_points=[604, 106, 639, 178]), FrameFeature(name='person', current_frame=3525, box_points=[271, 58, 312, 104]), FrameFeature(name='person', current_frame=3525, box_points=[468, 114, 522, 157]), FrameFeature(name='person', current_frame=3550, box_points=[259, 48, 593, 380]), FrameFeature(name='person', current_frame=3575, box_points=[252, 47, 599, 377]), FrameFeature(name='person', current_frame=3600, box_points=[122, 36, 323, 382]), FrameFeature(name='person', current_frame=3625, box_points=[149, 132, 517, 368]), FrameFeature(name='person', current_frame=3650, box_points=[2, 29, 346, 368]), FrameFeature(name='person', current_frame=3650, box_points=[335, 42, 623, 393]), FrameFeature(name='person', current_frame=3675, box_points=[324, 58, 637, 384]), FrameFeature(name='person', current_frame=3675, box_points=[8, 80, 338, 372]), FrameFeature(name='person', current_frame=3700, box_points=[12, 66, 406, 363]), FrameFeature(name='person', current_frame=3700, box_points=[551, 0, 638, 385]), FrameFeature(name='banana', current_frame=3700, box_points=[97, 201, 222, 285]), FrameFeature(name='person', current_frame=3725, box_points=[0, 11, 272, 340]), FrameFeature(name='person', current_frame=3725, box_points=[145, 22, 510, 376]), FrameFeature(name='banana', current_frame=3725, box_points=[12, 204, 145, 295]), FrameFeature(name='person', current_frame=3750, box_points=[167, 69, 479, 373]), FrameFeature(name='person', current_frame=3775, box_points=[184, 37, 651, 389]), FrameFeature(name='person', current_frame=3800, box_points=[15, 0, 339, 383]), FrameFeature(name='person', current_frame=3800, box_points=[277, 92, 475, 390]), FrameFeature(name='person', current_frame=3800, box_points=[410, 166, 631, 392]), FrameFeature(name='person', current_frame=3800, box_points=[462, 106, 557, 201]), FrameFeature(name='person', current_frame=3800, box_points=[267, 119, 364, 249]), FrameFeature(name='chair', current_frame=3800, box_points=[284, 192, 375, 270]), FrameFeature(name='person', current_frame=3825, box_points=[6, 16, 324, 370]), FrameFeature(name='person', current_frame=3825, box_points=[212, 128, 365, 372]), FrameFeature(name='person', current_frame=3825, box_points=[251, 107, 475, 389]), FrameFeature(name='person', current_frame=3825, box_points=[401, 172, 638, 394]), FrameFeature(name='person', current_frame=3825, box_points=[461, 118, 550, 207]), FrameFeature(name='person', current_frame=3825, box_points=[585, 121, 639, 214]), FrameFeature(name='person', current_frame=3825, box_points=[579, 124, 642, 359]), FrameFeature(name='person', current_frame=3850, box_points=[207, 32, 543, 380]), FrameFeature(name='person', current_frame=3875, box_points=[213, 57, 531, 384]), FrameFeature(name='potted plant', current_frame=3900, box_points=[44, 117, 180, 247]), FrameFeature(name='dog', current_frame=3900, box_points=[298, 186, 501, 339]), FrameFeature(name='person', current_frame=3900, box_points=[0, 109, 89, 323]), FrameFeature(name='person', current_frame=3925, box_points=[183, 102, 383, 361]), FrameFeature(name='dog', current_frame=3925, box_points=[306, 170, 598, 389]), FrameFeature(name='bottle', current_frame=3925, box_points=[274, 247, 330, 343]), FrameFeature(name='potted plant', current_frame=3950, box_points=[183, 20, 431, 405]), FrameFeature(name='potted plant', current_frame=3950, box_points=[3, 207, 159, 354]), FrameFeature(name='potted plant', current_frame=3950, box_points=[67, 284, 159, 365]), FrameFeature(name='potted plant', current_frame=3975, box_points=[169, 26, 439, 396]), FrameFeature(name='potted plant', current_frame=3975, box_points=[2, 205, 148, 357]), FrameFeature(name='potted plant', current_frame=3975, box_points=[64, 289, 151, 364]), FrameFeature(name='potted plant', current_frame=4000, box_points=[156, 17, 446, 401]), FrameFeature(name='potted plant', current_frame=4000, box_points=[2, 207, 111, 364]), FrameFeature(name='person', current_frame=4050, box_points=[21, 23, 526, 380]), FrameFeature(name='person', current_frame=4050, box_points=[244, 94, 510, 381]), FrameFeature(name='person', current_frame=4075, box_points=[90, 24, 431, 379]), FrameFeature(name='person', current_frame=4075, box_points=[296, 131, 533, 384]), FrameFeature(name='person', current_frame=4100, box_points=[264, 59, 643, 380]), FrameFeature(name='person', current_frame=4100, box_points=[0, 73, 288, 365]), FrameFeature(name='person', current_frame=4125, box_points=[280, 17, 449, 390]), FrameFeature(name='person', current_frame=4125, box_points=[242, 43, 618, 393]), FrameFeature(name='person', current_frame=4125, box_points=[4, 76, 260, 362]), FrameFeature(name='person', current_frame=4150, box_points=[238, 35, 416, 356]), FrameFeature(name='person', current_frame=4150, box_points=[248, 68, 599, 387]), FrameFeature(name='person', current_frame=4150, box_points=[0, 73, 41, 357]), FrameFeature(name='cup', current_frame=4150, box_points=[113, 236, 242, 327]), FrameFeature(name='person', current_frame=4175, box_points=[193, 54, 438, 373]), FrameFeature(name='person', current_frame=4175, box_points=[0, 78, 130, 375]), FrameFeature(name='backpack', current_frame=4175, box_points=[225, 163, 414, 309]), FrameFeature(name='person', current_frame=4175, box_points=[348, 97, 569, 388]), FrameFeature(name='person', current_frame=4325, box_points=[41, 59, 231, 330]), FrameFeature(name='potted plant', current_frame=4325, box_points=[56, 64, 249, 323]), FrameFeature(name='potted plant', current_frame=4325, box_points=[283, 246, 458, 377]), FrameFeature(name='potted plant', current_frame=4325, box_points=[194, 140, 278, 265]), FrameFeature(name='potted plant', current_frame=4325, box_points=[300, 160, 349, 239]), FrameFeature(name='cat', current_frame=4325, box_points=[148, 245, 261, 367]), FrameFeature(name='chair', current_frame=4325, box_points=[55, 272, 162, 365]), FrameFeature(name='dog', current_frame=4325, box_points=[146, 253, 262, 371]), FrameFeature(name='person', current_frame=4350, box_points=[42, 59, 232, 334]), FrameFeature(name='potted plant', current_frame=4350, box_points=[284, 245, 460, 377]), FrameFeature(name='potted plant', current_frame=4350, box_points=[301, 161, 348, 241]), FrameFeature(name='dog', current_frame=4350, box_points=[145, 225, 259, 366]), FrameFeature(name='chair', current_frame=4350, box_points=[53, 272, 164, 366]), FrameFeature(name='person', current_frame=4375, box_points=[40, 60, 234, 333]), FrameFeature(name='potted plant', current_frame=4375, box_points=[283, 246, 456, 377]), FrameFeature(name='potted plant', current_frame=4375, box_points=[301, 159, 349, 241]), FrameFeature(name='cat', current_frame=4375, box_points=[144, 205, 263, 360]), FrameFeature(name='dog', current_frame=4375, box_points=[146, 221, 259, 366]), FrameFeature(name='chair', current_frame=4375, box_points=[53, 272, 165, 366]), FrameFeature(name='person', current_frame=4400, box_points=[41, 59, 228, 334]), FrameFeature(name='potted plant', current_frame=4400, box_points=[286, 244, 456, 377]), FrameFeature(name='potted plant', current_frame=4400, box_points=[301, 160, 349, 241]), FrameFeature(name='dog', current_frame=4400, box_points=[149, 205, 263, 362]), FrameFeature(name='chair', current_frame=4400, box_points=[53, 271, 163, 366])]\n"
     ]
    }
   ],
   "source": [
    "from summarizer.infrastructure.repository.feature_repository import FeatureRepository\n",
    "repo = FeatureRepository(dynamodb)\n",
    "print(repo.get('b8ff3a74-d7b2-4c6f-bc36-968688168c17.mp4'))"
   ]
  },
  {
   "cell_type": "code",
   "execution_count": null,
   "metadata": {},
   "outputs": [],
   "source": [
    "from redis import Redis\n",
    "redis = Redis(host=\"127.0.0.1\", port=\"6379\")\n",
    "redis.llen(\"summarizer\")"
   ]
  },
  {
   "cell_type": "code",
   "execution_count": null,
   "metadata": {},
   "outputs": [],
   "source": [
    "class 우성원:\n",
    "    def __init__(self, x, y):\n",
    "        self.x = x;\n",
    "        self.y = y;\n",
    "    \n",
    "    def print(self):\n",
    "        print(self.x,self.y)\n",
    "    \n",
    "woo = 우성원(\"234\",\"234\")\n",
    "woo.print()"
   ]
  },
  {
   "cell_type": "code",
   "execution_count": null,
   "metadata": {},
   "outputs": [],
   "source": [
    "from pydantic import BaseModel\n",
    "\n",
    "class 전민수(BaseModel):\n",
    "    x : int\n",
    "    y : int\n",
    "\n",
    "    def print(self):\n",
    "        print(self.x, self.y)\n",
    "\n",
    "\n",
    "jeon = 전민수(x=1,y=1)\n",
    "\n",
    "jeon.print()"
   ]
  },
  {
   "cell_type": "code",
   "execution_count": null,
   "metadata": {},
   "outputs": [],
   "source": []
  }
 ],
 "metadata": {
  "interpreter": {
   "hash": "19c3d63fb0fca6ad034ff5f3341e7200cfedea1264701a9bb919ca3873d1b28a"
  },
  "kernelspec": {
   "display_name": "Python 3.8.9 ('summarizer-server-05flj79H-py3.8')",
   "language": "python",
   "name": "python3"
  },
  "language_info": {
   "codemirror_mode": {
    "name": "ipython",
    "version": 3
   },
   "file_extension": ".py",
   "mimetype": "text/x-python",
   "name": "python",
   "nbconvert_exporter": "python",
   "pygments_lexer": "ipython3",
   "version": "3.8.9"
  },
  "orig_nbformat": 4
 },
 "nbformat": 4,
 "nbformat_minor": 2
}
